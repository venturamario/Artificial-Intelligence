{
 "cells": [
  {
   "cell_type": "markdown",
   "id": "ceb029d0",
   "metadata": {},
   "source": [
    "# PRÁCTICA 2 - INTELIGENCIA ARTIFICAL\n",
    "## Curso 2022-2023"
   ]
  },
  {
   "cell_type": "markdown",
   "id": "4f3b3164",
   "metadata": {},
   "source": [
    "- **Mario Ventura Burgos** - 43223476J\n",
    "- **Luis Miguel Vargas Durán** - 43214929E \n",
    "\n",
    "Estudio sobre la probabilidad de supervivencia de pasajeros en el Titanic\n",
    "\n",
    "![titanic](titanic.jpeg)"
   ]
  },
  {
   "cell_type": "markdown",
   "id": "ac208b4b",
   "metadata": {},
   "source": [
    "## INTRODUCCIÓN\n",
    "Hace 111 años, en el año 1912, tuvo lugar el famosísimo hundimiento del Titanic, un barco de 269 metros de longitud. En este incidente murieron 1502 personas, de las 2224 que se tienen registradas. Entre ellas, pasajeros, cocineros, tripulantes, etc...\n",
    "\n",
    "Resulta interesante analizar el incidente desde todos los puntos de vista. Resulta que parece ser que hay ciertas personas con más probabilidad de sobrevivir al mismo incidente que otras.\n",
    "\n",
    "Desde la asignatura de inteligencia artifical, se nos plantea una práctica cuyo objetivo es usar un dataset de nombre ``dades.csv``, que contiene información acerca de los pasajeros del Titanic, para realizar un estudio estadístico acerca de que características de los pasajeros influyen (y si es así, cuánto influyen) en la probabilidad de sobrevivir al naufragio.<br><br>\n",
    "Esto se hará usando varios modelos predictivos que nos permitan determinar qué pasajeros son los que más probabilidades tienen de sobrevivir al naufragio."
   ]
  },
  {
   "cell_type": "markdown",
   "id": "8a0ec2f0",
   "metadata": {},
   "source": [
    "Dividiremos la práctica en dos partes diferenciadas: <br>\n",
    "\n",
    "### - PARTE 1: Implementar predictores\n",
    "La primera parte de la práctica consistirá en entrenar a un conjunto de predictores, analizar y comparar posteriormente, el rendimiento. Tendremos que **entrenar** a los predictores, **analizar y tratar los datos** y **hacer una evaluación de los resultados.** <br>\n",
    "Disponemos de los siguientes predictores:\n",
    "- **Perceptrón**    \n",
    "- **Regresión logística**\n",
    "- **Árboles de decisión**\n",
    "- **Random Forest**\n",
    "\n",
    "### - PARTE 2: Análisis de la importancia de las características\n",
    "La segunda parte de la práctica consistirá en obtener y analizar cada característica y su importancia en cada uno de los modelos anteriores en el apartado anterior."
   ]
  },
  {
   "cell_type": "markdown",
   "id": "fafb0f9f",
   "metadata": {},
   "source": [
    "## PREPARACIÓN PREVIA\n",
    "A continuación, antes de comenzar la primera parte de la práctica, leeremos el dataset dades.csv y mostraremos el contenido.<br><br>\n",
    "Esto se hará con la librería ``pandas``.<br><br>\n",
    "Además de esta, será necesario importar algunas otras librerías:\n",
    "## IMPORTS"
   ]
  },
  {
   "cell_type": "code",
   "execution_count": 66,
   "id": "b59b65dc",
   "metadata": {},
   "outputs": [],
   "source": [
    "import numpy as nump\n",
    "import pandas as pd\n",
    "import matplotlib.pyplot as plt\n",
    "import seaborn as sea\n",
    "\n",
    "from sklearn import preprocessing\n",
    "from sklearn.preprocessing import LabelEncoder\n",
    "from sklearn.preprocessing import MinMaxScaler\n",
    "\n",
    "\n",
    "from sklearn.linear_model import Perceptron\n",
    "from sklearn.linear_model import LogisticRegression\n",
    "from sklearn.tree import DecisionTreeClassifier\n",
    "from sklearn.ensemble import RandomForestClassifier\n",
    "\n",
    "from sklearn.model_selection import train_test_split\n",
    "from sklearn.model_selection import GridSearchCV\n",
    "from sklearn.metrics import classification_report, accuracy_score\n",
    "from sklearn.metrics import confusion_matrix"
   ]
  },
  {
   "cell_type": "markdown",
   "id": "e015ca97",
   "metadata": {},
   "source": [
    "<br><br> El dataset que tenemos es el siguiente:"
   ]
  },
  {
   "cell_type": "code",
   "execution_count": 67,
   "id": "48bf5827",
   "metadata": {
    "scrolled": true
   },
   "outputs": [
    {
     "data": {
      "text/html": [
       "<div>\n",
       "<style scoped>\n",
       "    .dataframe tbody tr th:only-of-type {\n",
       "        vertical-align: middle;\n",
       "    }\n",
       "\n",
       "    .dataframe tbody tr th {\n",
       "        vertical-align: top;\n",
       "    }\n",
       "\n",
       "    .dataframe thead th {\n",
       "        text-align: right;\n",
       "    }\n",
       "</style>\n",
       "<table border=\"1\" class=\"dataframe\">\n",
       "  <thead>\n",
       "    <tr style=\"text-align: right;\">\n",
       "      <th></th>\n",
       "      <th>PassengerId</th>\n",
       "      <th>Survived</th>\n",
       "      <th>Pclass</th>\n",
       "      <th>Name</th>\n",
       "      <th>Sex</th>\n",
       "      <th>Age</th>\n",
       "      <th>SibSp</th>\n",
       "      <th>Parch</th>\n",
       "      <th>Ticket</th>\n",
       "      <th>Fare</th>\n",
       "      <th>Cabin</th>\n",
       "      <th>Embarked</th>\n",
       "    </tr>\n",
       "  </thead>\n",
       "  <tbody>\n",
       "    <tr>\n",
       "      <th>0</th>\n",
       "      <td>1</td>\n",
       "      <td>0</td>\n",
       "      <td>3</td>\n",
       "      <td>Braund, Mr. Owen Harris</td>\n",
       "      <td>male</td>\n",
       "      <td>22.00</td>\n",
       "      <td>1</td>\n",
       "      <td>0</td>\n",
       "      <td>A/5 21171</td>\n",
       "      <td>7.25</td>\n",
       "      <td>NaN</td>\n",
       "      <td>S</td>\n",
       "    </tr>\n",
       "    <tr>\n",
       "      <th>1</th>\n",
       "      <td>2</td>\n",
       "      <td>1</td>\n",
       "      <td>1</td>\n",
       "      <td>Cumings, Mrs. John Bradley (Florence Briggs Th...</td>\n",
       "      <td>female</td>\n",
       "      <td>38.00</td>\n",
       "      <td>1</td>\n",
       "      <td>0</td>\n",
       "      <td>PC 17599</td>\n",
       "      <td>71.28</td>\n",
       "      <td>C85</td>\n",
       "      <td>C</td>\n",
       "    </tr>\n",
       "    <tr>\n",
       "      <th>2</th>\n",
       "      <td>3</td>\n",
       "      <td>1</td>\n",
       "      <td>3</td>\n",
       "      <td>Heikkinen, Miss. Laina</td>\n",
       "      <td>female</td>\n",
       "      <td>26.00</td>\n",
       "      <td>0</td>\n",
       "      <td>0</td>\n",
       "      <td>STON/O2. 3101282</td>\n",
       "      <td>7.92</td>\n",
       "      <td>NaN</td>\n",
       "      <td>S</td>\n",
       "    </tr>\n",
       "    <tr>\n",
       "      <th>3</th>\n",
       "      <td>4</td>\n",
       "      <td>1</td>\n",
       "      <td>1</td>\n",
       "      <td>Futrelle, Mrs. Jacques Heath (Lily May Peel)</td>\n",
       "      <td>female</td>\n",
       "      <td>35.00</td>\n",
       "      <td>1</td>\n",
       "      <td>0</td>\n",
       "      <td>113803</td>\n",
       "      <td>53.10</td>\n",
       "      <td>C123</td>\n",
       "      <td>S</td>\n",
       "    </tr>\n",
       "    <tr>\n",
       "      <th>4</th>\n",
       "      <td>5</td>\n",
       "      <td>0</td>\n",
       "      <td>3</td>\n",
       "      <td>Allen, Mr. William Henry</td>\n",
       "      <td>male</td>\n",
       "      <td>35.00</td>\n",
       "      <td>0</td>\n",
       "      <td>0</td>\n",
       "      <td>373450</td>\n",
       "      <td>8.05</td>\n",
       "      <td>NaN</td>\n",
       "      <td>S</td>\n",
       "    </tr>\n",
       "    <tr>\n",
       "      <th>...</th>\n",
       "      <td>...</td>\n",
       "      <td>...</td>\n",
       "      <td>...</td>\n",
       "      <td>...</td>\n",
       "      <td>...</td>\n",
       "      <td>...</td>\n",
       "      <td>...</td>\n",
       "      <td>...</td>\n",
       "      <td>...</td>\n",
       "      <td>...</td>\n",
       "      <td>...</td>\n",
       "      <td>...</td>\n",
       "    </tr>\n",
       "    <tr>\n",
       "      <th>886</th>\n",
       "      <td>887</td>\n",
       "      <td>0</td>\n",
       "      <td>2</td>\n",
       "      <td>Montvila, Rev. Juozas</td>\n",
       "      <td>male</td>\n",
       "      <td>27.00</td>\n",
       "      <td>0</td>\n",
       "      <td>0</td>\n",
       "      <td>211536</td>\n",
       "      <td>13.00</td>\n",
       "      <td>NaN</td>\n",
       "      <td>S</td>\n",
       "    </tr>\n",
       "    <tr>\n",
       "      <th>887</th>\n",
       "      <td>888</td>\n",
       "      <td>1</td>\n",
       "      <td>1</td>\n",
       "      <td>Graham, Miss. Margaret Edith</td>\n",
       "      <td>female</td>\n",
       "      <td>19.00</td>\n",
       "      <td>0</td>\n",
       "      <td>0</td>\n",
       "      <td>112053</td>\n",
       "      <td>30.00</td>\n",
       "      <td>B42</td>\n",
       "      <td>S</td>\n",
       "    </tr>\n",
       "    <tr>\n",
       "      <th>888</th>\n",
       "      <td>889</td>\n",
       "      <td>0</td>\n",
       "      <td>3</td>\n",
       "      <td>Johnston, Miss. Catherine Helen \"Carrie\"</td>\n",
       "      <td>female</td>\n",
       "      <td>NaN</td>\n",
       "      <td>1</td>\n",
       "      <td>2</td>\n",
       "      <td>W./C. 6607</td>\n",
       "      <td>23.45</td>\n",
       "      <td>NaN</td>\n",
       "      <td>S</td>\n",
       "    </tr>\n",
       "    <tr>\n",
       "      <th>889</th>\n",
       "      <td>890</td>\n",
       "      <td>1</td>\n",
       "      <td>1</td>\n",
       "      <td>Behr, Mr. Karl Howell</td>\n",
       "      <td>male</td>\n",
       "      <td>26.00</td>\n",
       "      <td>0</td>\n",
       "      <td>0</td>\n",
       "      <td>111369</td>\n",
       "      <td>30.00</td>\n",
       "      <td>C148</td>\n",
       "      <td>C</td>\n",
       "    </tr>\n",
       "    <tr>\n",
       "      <th>890</th>\n",
       "      <td>891</td>\n",
       "      <td>0</td>\n",
       "      <td>3</td>\n",
       "      <td>Dooley, Mr. Patrick</td>\n",
       "      <td>male</td>\n",
       "      <td>32.00</td>\n",
       "      <td>0</td>\n",
       "      <td>0</td>\n",
       "      <td>370376</td>\n",
       "      <td>7.75</td>\n",
       "      <td>NaN</td>\n",
       "      <td>Q</td>\n",
       "    </tr>\n",
       "  </tbody>\n",
       "</table>\n",
       "<p>891 rows × 12 columns</p>\n",
       "</div>"
      ],
      "text/plain": [
       "     PassengerId  Survived  Pclass  \\\n",
       "0              1         0       3   \n",
       "1              2         1       1   \n",
       "2              3         1       3   \n",
       "3              4         1       1   \n",
       "4              5         0       3   \n",
       "..           ...       ...     ...   \n",
       "886          887         0       2   \n",
       "887          888         1       1   \n",
       "888          889         0       3   \n",
       "889          890         1       1   \n",
       "890          891         0       3   \n",
       "\n",
       "                                                  Name     Sex   Age  SibSp  \\\n",
       "0                              Braund, Mr. Owen Harris    male 22.00      1   \n",
       "1    Cumings, Mrs. John Bradley (Florence Briggs Th...  female 38.00      1   \n",
       "2                               Heikkinen, Miss. Laina  female 26.00      0   \n",
       "3         Futrelle, Mrs. Jacques Heath (Lily May Peel)  female 35.00      1   \n",
       "4                             Allen, Mr. William Henry    male 35.00      0   \n",
       "..                                                 ...     ...   ...    ...   \n",
       "886                              Montvila, Rev. Juozas    male 27.00      0   \n",
       "887                       Graham, Miss. Margaret Edith  female 19.00      0   \n",
       "888           Johnston, Miss. Catherine Helen \"Carrie\"  female   NaN      1   \n",
       "889                              Behr, Mr. Karl Howell    male 26.00      0   \n",
       "890                                Dooley, Mr. Patrick    male 32.00      0   \n",
       "\n",
       "     Parch            Ticket  Fare Cabin Embarked  \n",
       "0        0         A/5 21171  7.25   NaN        S  \n",
       "1        0          PC 17599 71.28   C85        C  \n",
       "2        0  STON/O2. 3101282  7.92   NaN        S  \n",
       "3        0            113803 53.10  C123        S  \n",
       "4        0            373450  8.05   NaN        S  \n",
       "..     ...               ...   ...   ...      ...  \n",
       "886      0            211536 13.00   NaN        S  \n",
       "887      0            112053 30.00   B42        S  \n",
       "888      2        W./C. 6607 23.45   NaN        S  \n",
       "889      0            111369 30.00  C148        C  \n",
       "890      0            370376  7.75   NaN        Q  \n",
       "\n",
       "[891 rows x 12 columns]"
      ]
     },
     "execution_count": 67,
     "metadata": {},
     "output_type": "execute_result"
    }
   ],
   "source": [
    "df = pd.read_csv(\"dades.csv\")\n",
    "df"
   ]
  },
  {
   "cell_type": "markdown",
   "id": "ae666b4f",
   "metadata": {},
   "source": [
    "# 1) Implementación de predictores\n",
    "## 1.1) Tratar y analizar los datos (EDA)\n",
    "Antes de empezar a tratar y manipular los datos, es necesario entender que el dataset está formado por datos que no están \"limpios\". Tendremos que **limpiar los datos** de posibles \"problemas\" o \"impurezas\", ya que el uso de datos sucios podría interferir negativamente en el entrenamiento. <br><br>\n",
    "La función ``info`` nos proprocionará una información más detallada de los datos. <br><br>\n",
    "Posteriormente, con la función ``describe`` mostraremos una **tabla de valores estadísticos** de las columnas numéricas del dataset."
   ]
  },
  {
   "cell_type": "code",
   "execution_count": 68,
   "id": "033dff35",
   "metadata": {},
   "outputs": [
    {
     "name": "stdout",
     "output_type": "stream",
     "text": [
      "<class 'pandas.core.frame.DataFrame'>\n",
      "RangeIndex: 891 entries, 0 to 890\n",
      "Data columns (total 12 columns):\n",
      " #   Column       Non-Null Count  Dtype  \n",
      "---  ------       --------------  -----  \n",
      " 0   PassengerId  891 non-null    int64  \n",
      " 1   Survived     891 non-null    int64  \n",
      " 2   Pclass       891 non-null    int64  \n",
      " 3   Name         891 non-null    object \n",
      " 4   Sex          891 non-null    object \n",
      " 5   Age          714 non-null    float64\n",
      " 6   SibSp        891 non-null    int64  \n",
      " 7   Parch        891 non-null    int64  \n",
      " 8   Ticket       891 non-null    object \n",
      " 9   Fare         891 non-null    float64\n",
      " 10  Cabin        204 non-null    object \n",
      " 11  Embarked     889 non-null    object \n",
      "dtypes: float64(2), int64(5), object(5)\n",
      "memory usage: 83.7+ KB\n"
     ]
    }
   ],
   "source": [
    "df.info()"
   ]
  },
  {
   "cell_type": "markdown",
   "id": "64db33fd",
   "metadata": {},
   "source": [
    "Ahora usamos ``describe``"
   ]
  },
  {
   "cell_type": "code",
   "execution_count": 69,
   "id": "58f88813",
   "metadata": {},
   "outputs": [
    {
     "data": {
      "text/html": [
       "<div>\n",
       "<style scoped>\n",
       "    .dataframe tbody tr th:only-of-type {\n",
       "        vertical-align: middle;\n",
       "    }\n",
       "\n",
       "    .dataframe tbody tr th {\n",
       "        vertical-align: top;\n",
       "    }\n",
       "\n",
       "    .dataframe thead th {\n",
       "        text-align: right;\n",
       "    }\n",
       "</style>\n",
       "<table border=\"1\" class=\"dataframe\">\n",
       "  <thead>\n",
       "    <tr style=\"text-align: right;\">\n",
       "      <th></th>\n",
       "      <th>PassengerId</th>\n",
       "      <th>Survived</th>\n",
       "      <th>Pclass</th>\n",
       "      <th>Age</th>\n",
       "      <th>SibSp</th>\n",
       "      <th>Parch</th>\n",
       "      <th>Fare</th>\n",
       "    </tr>\n",
       "  </thead>\n",
       "  <tbody>\n",
       "    <tr>\n",
       "      <th>count</th>\n",
       "      <td>891.00</td>\n",
       "      <td>891.00</td>\n",
       "      <td>891.00</td>\n",
       "      <td>714.00</td>\n",
       "      <td>891.00</td>\n",
       "      <td>891.00</td>\n",
       "      <td>891.00</td>\n",
       "    </tr>\n",
       "    <tr>\n",
       "      <th>mean</th>\n",
       "      <td>446.00</td>\n",
       "      <td>0.38</td>\n",
       "      <td>2.31</td>\n",
       "      <td>29.70</td>\n",
       "      <td>0.52</td>\n",
       "      <td>0.38</td>\n",
       "      <td>32.20</td>\n",
       "    </tr>\n",
       "    <tr>\n",
       "      <th>std</th>\n",
       "      <td>257.35</td>\n",
       "      <td>0.49</td>\n",
       "      <td>0.84</td>\n",
       "      <td>14.53</td>\n",
       "      <td>1.10</td>\n",
       "      <td>0.81</td>\n",
       "      <td>49.69</td>\n",
       "    </tr>\n",
       "    <tr>\n",
       "      <th>min</th>\n",
       "      <td>1.00</td>\n",
       "      <td>0.00</td>\n",
       "      <td>1.00</td>\n",
       "      <td>0.42</td>\n",
       "      <td>0.00</td>\n",
       "      <td>0.00</td>\n",
       "      <td>0.00</td>\n",
       "    </tr>\n",
       "    <tr>\n",
       "      <th>25%</th>\n",
       "      <td>223.50</td>\n",
       "      <td>0.00</td>\n",
       "      <td>2.00</td>\n",
       "      <td>20.12</td>\n",
       "      <td>0.00</td>\n",
       "      <td>0.00</td>\n",
       "      <td>7.91</td>\n",
       "    </tr>\n",
       "    <tr>\n",
       "      <th>50%</th>\n",
       "      <td>446.00</td>\n",
       "      <td>0.00</td>\n",
       "      <td>3.00</td>\n",
       "      <td>28.00</td>\n",
       "      <td>0.00</td>\n",
       "      <td>0.00</td>\n",
       "      <td>14.45</td>\n",
       "    </tr>\n",
       "    <tr>\n",
       "      <th>75%</th>\n",
       "      <td>668.50</td>\n",
       "      <td>1.00</td>\n",
       "      <td>3.00</td>\n",
       "      <td>38.00</td>\n",
       "      <td>1.00</td>\n",
       "      <td>0.00</td>\n",
       "      <td>31.00</td>\n",
       "    </tr>\n",
       "    <tr>\n",
       "      <th>max</th>\n",
       "      <td>891.00</td>\n",
       "      <td>1.00</td>\n",
       "      <td>3.00</td>\n",
       "      <td>80.00</td>\n",
       "      <td>8.00</td>\n",
       "      <td>6.00</td>\n",
       "      <td>512.33</td>\n",
       "    </tr>\n",
       "  </tbody>\n",
       "</table>\n",
       "</div>"
      ],
      "text/plain": [
       "       PassengerId  Survived  Pclass    Age  SibSp  Parch   Fare\n",
       "count       891.00    891.00  891.00 714.00 891.00 891.00 891.00\n",
       "mean        446.00      0.38    2.31  29.70   0.52   0.38  32.20\n",
       "std         257.35      0.49    0.84  14.53   1.10   0.81  49.69\n",
       "min           1.00      0.00    1.00   0.42   0.00   0.00   0.00\n",
       "25%         223.50      0.00    2.00  20.12   0.00   0.00   7.91\n",
       "50%         446.00      0.00    3.00  28.00   0.00   0.00  14.45\n",
       "75%         668.50      1.00    3.00  38.00   1.00   0.00  31.00\n",
       "max         891.00      1.00    3.00  80.00   8.00   6.00 512.33"
      ]
     },
     "execution_count": 69,
     "metadata": {},
     "output_type": "execute_result"
    }
   ],
   "source": [
    "df.describe()"
   ]
  },
  {
   "cell_type": "markdown",
   "id": "858ac004",
   "metadata": {},
   "source": [
    "### 1.1.1) Eliminación de valores NaN's\n",
    "En el output obtenido anteriormente al hacer la llamada a ``pand.read_csv()`` podemos ver que en la columna _Cabin_ hay algunos valores **NaN** (Not a Number). Esto se debe a que en el dataset hay valores de este tipo (también pueden verse en columnas como _Age_). <br><br>\n",
    "Para ver de forma más clara cuáles son las filas con valores _Nan_, existen, entre otras, las siguientes opciones:\n",
    "- 1.) Usar la función isna() para seleccionar las filas con _Nan_ en **una columna** del dataset: ``df[df['column name'].isna()]``<br><br>\n",
    "- 2.) Hacer lo mismo que en la opción 1 pero con la función isnull():  ``df[df['column name'].isnull()]``<br><br>\n",
    "- 3.) Usar la función isna() para seleccionar las filas con _Nan_ en **TODO el dataset**: ``df[df.isna().any(axis=1)]``<br><br>\n",
    "- 4.) Hacer lo mismo que en la opción 3 pero con la función isnull(): ``df[df.isnull().any(axis=1)]``"
   ]
  },
  {
   "cell_type": "markdown",
   "id": "463ccbdc",
   "metadata": {},
   "source": [
    "En nuestro caso, las opciones 1 y 2 no parecen ser las mejores, dado que no queremos ver los valores _Nan_ en una sola columna, sino en todo el dataset. Por ello, la opción 3 (o la 4) nos serán de mayor utilidad. <br><br>\n",
    "En nuestro caso, siguiendo con la ocpión 3 y haciendo uso de la función ``isna`` de la librería ``pandas``, se mostrará las filas que tengan algún valor Nan **en todo el dataset**."
   ]
  },
  {
   "cell_type": "code",
   "execution_count": 70,
   "id": "dd8a19aa",
   "metadata": {},
   "outputs": [
    {
     "data": {
      "text/html": [
       "<div>\n",
       "<style scoped>\n",
       "    .dataframe tbody tr th:only-of-type {\n",
       "        vertical-align: middle;\n",
       "    }\n",
       "\n",
       "    .dataframe tbody tr th {\n",
       "        vertical-align: top;\n",
       "    }\n",
       "\n",
       "    .dataframe thead th {\n",
       "        text-align: right;\n",
       "    }\n",
       "</style>\n",
       "<table border=\"1\" class=\"dataframe\">\n",
       "  <thead>\n",
       "    <tr style=\"text-align: right;\">\n",
       "      <th></th>\n",
       "      <th>PassengerId</th>\n",
       "      <th>Survived</th>\n",
       "      <th>Pclass</th>\n",
       "      <th>Name</th>\n",
       "      <th>Sex</th>\n",
       "      <th>Age</th>\n",
       "      <th>SibSp</th>\n",
       "      <th>Parch</th>\n",
       "      <th>Ticket</th>\n",
       "      <th>Fare</th>\n",
       "      <th>Cabin</th>\n",
       "      <th>Embarked</th>\n",
       "    </tr>\n",
       "  </thead>\n",
       "  <tbody>\n",
       "    <tr>\n",
       "      <th>0</th>\n",
       "      <td>1</td>\n",
       "      <td>0</td>\n",
       "      <td>3</td>\n",
       "      <td>Braund, Mr. Owen Harris</td>\n",
       "      <td>male</td>\n",
       "      <td>22.00</td>\n",
       "      <td>1</td>\n",
       "      <td>0</td>\n",
       "      <td>A/5 21171</td>\n",
       "      <td>7.25</td>\n",
       "      <td>NaN</td>\n",
       "      <td>S</td>\n",
       "    </tr>\n",
       "    <tr>\n",
       "      <th>2</th>\n",
       "      <td>3</td>\n",
       "      <td>1</td>\n",
       "      <td>3</td>\n",
       "      <td>Heikkinen, Miss. Laina</td>\n",
       "      <td>female</td>\n",
       "      <td>26.00</td>\n",
       "      <td>0</td>\n",
       "      <td>0</td>\n",
       "      <td>STON/O2. 3101282</td>\n",
       "      <td>7.92</td>\n",
       "      <td>NaN</td>\n",
       "      <td>S</td>\n",
       "    </tr>\n",
       "    <tr>\n",
       "      <th>4</th>\n",
       "      <td>5</td>\n",
       "      <td>0</td>\n",
       "      <td>3</td>\n",
       "      <td>Allen, Mr. William Henry</td>\n",
       "      <td>male</td>\n",
       "      <td>35.00</td>\n",
       "      <td>0</td>\n",
       "      <td>0</td>\n",
       "      <td>373450</td>\n",
       "      <td>8.05</td>\n",
       "      <td>NaN</td>\n",
       "      <td>S</td>\n",
       "    </tr>\n",
       "    <tr>\n",
       "      <th>5</th>\n",
       "      <td>6</td>\n",
       "      <td>0</td>\n",
       "      <td>3</td>\n",
       "      <td>Moran, Mr. James</td>\n",
       "      <td>male</td>\n",
       "      <td>NaN</td>\n",
       "      <td>0</td>\n",
       "      <td>0</td>\n",
       "      <td>330877</td>\n",
       "      <td>8.46</td>\n",
       "      <td>NaN</td>\n",
       "      <td>Q</td>\n",
       "    </tr>\n",
       "    <tr>\n",
       "      <th>7</th>\n",
       "      <td>8</td>\n",
       "      <td>0</td>\n",
       "      <td>3</td>\n",
       "      <td>Palsson, Master. Gosta Leonard</td>\n",
       "      <td>male</td>\n",
       "      <td>2.00</td>\n",
       "      <td>3</td>\n",
       "      <td>1</td>\n",
       "      <td>349909</td>\n",
       "      <td>21.07</td>\n",
       "      <td>NaN</td>\n",
       "      <td>S</td>\n",
       "    </tr>\n",
       "    <tr>\n",
       "      <th>...</th>\n",
       "      <td>...</td>\n",
       "      <td>...</td>\n",
       "      <td>...</td>\n",
       "      <td>...</td>\n",
       "      <td>...</td>\n",
       "      <td>...</td>\n",
       "      <td>...</td>\n",
       "      <td>...</td>\n",
       "      <td>...</td>\n",
       "      <td>...</td>\n",
       "      <td>...</td>\n",
       "      <td>...</td>\n",
       "    </tr>\n",
       "    <tr>\n",
       "      <th>884</th>\n",
       "      <td>885</td>\n",
       "      <td>0</td>\n",
       "      <td>3</td>\n",
       "      <td>Sutehall, Mr. Henry Jr</td>\n",
       "      <td>male</td>\n",
       "      <td>25.00</td>\n",
       "      <td>0</td>\n",
       "      <td>0</td>\n",
       "      <td>SOTON/OQ 392076</td>\n",
       "      <td>7.05</td>\n",
       "      <td>NaN</td>\n",
       "      <td>S</td>\n",
       "    </tr>\n",
       "    <tr>\n",
       "      <th>885</th>\n",
       "      <td>886</td>\n",
       "      <td>0</td>\n",
       "      <td>3</td>\n",
       "      <td>Rice, Mrs. William (Margaret Norton)</td>\n",
       "      <td>female</td>\n",
       "      <td>39.00</td>\n",
       "      <td>0</td>\n",
       "      <td>5</td>\n",
       "      <td>382652</td>\n",
       "      <td>29.12</td>\n",
       "      <td>NaN</td>\n",
       "      <td>Q</td>\n",
       "    </tr>\n",
       "    <tr>\n",
       "      <th>886</th>\n",
       "      <td>887</td>\n",
       "      <td>0</td>\n",
       "      <td>2</td>\n",
       "      <td>Montvila, Rev. Juozas</td>\n",
       "      <td>male</td>\n",
       "      <td>27.00</td>\n",
       "      <td>0</td>\n",
       "      <td>0</td>\n",
       "      <td>211536</td>\n",
       "      <td>13.00</td>\n",
       "      <td>NaN</td>\n",
       "      <td>S</td>\n",
       "    </tr>\n",
       "    <tr>\n",
       "      <th>888</th>\n",
       "      <td>889</td>\n",
       "      <td>0</td>\n",
       "      <td>3</td>\n",
       "      <td>Johnston, Miss. Catherine Helen \"Carrie\"</td>\n",
       "      <td>female</td>\n",
       "      <td>NaN</td>\n",
       "      <td>1</td>\n",
       "      <td>2</td>\n",
       "      <td>W./C. 6607</td>\n",
       "      <td>23.45</td>\n",
       "      <td>NaN</td>\n",
       "      <td>S</td>\n",
       "    </tr>\n",
       "    <tr>\n",
       "      <th>890</th>\n",
       "      <td>891</td>\n",
       "      <td>0</td>\n",
       "      <td>3</td>\n",
       "      <td>Dooley, Mr. Patrick</td>\n",
       "      <td>male</td>\n",
       "      <td>32.00</td>\n",
       "      <td>0</td>\n",
       "      <td>0</td>\n",
       "      <td>370376</td>\n",
       "      <td>7.75</td>\n",
       "      <td>NaN</td>\n",
       "      <td>Q</td>\n",
       "    </tr>\n",
       "  </tbody>\n",
       "</table>\n",
       "<p>708 rows × 12 columns</p>\n",
       "</div>"
      ],
      "text/plain": [
       "     PassengerId  Survived  Pclass                                      Name  \\\n",
       "0              1         0       3                   Braund, Mr. Owen Harris   \n",
       "2              3         1       3                    Heikkinen, Miss. Laina   \n",
       "4              5         0       3                  Allen, Mr. William Henry   \n",
       "5              6         0       3                          Moran, Mr. James   \n",
       "7              8         0       3            Palsson, Master. Gosta Leonard   \n",
       "..           ...       ...     ...                                       ...   \n",
       "884          885         0       3                    Sutehall, Mr. Henry Jr   \n",
       "885          886         0       3      Rice, Mrs. William (Margaret Norton)   \n",
       "886          887         0       2                     Montvila, Rev. Juozas   \n",
       "888          889         0       3  Johnston, Miss. Catherine Helen \"Carrie\"   \n",
       "890          891         0       3                       Dooley, Mr. Patrick   \n",
       "\n",
       "        Sex   Age  SibSp  Parch            Ticket  Fare Cabin Embarked  \n",
       "0      male 22.00      1      0         A/5 21171  7.25   NaN        S  \n",
       "2    female 26.00      0      0  STON/O2. 3101282  7.92   NaN        S  \n",
       "4      male 35.00      0      0            373450  8.05   NaN        S  \n",
       "5      male   NaN      0      0            330877  8.46   NaN        Q  \n",
       "7      male  2.00      3      1            349909 21.07   NaN        S  \n",
       "..      ...   ...    ...    ...               ...   ...   ...      ...  \n",
       "884    male 25.00      0      0   SOTON/OQ 392076  7.05   NaN        S  \n",
       "885  female 39.00      0      5            382652 29.12   NaN        Q  \n",
       "886    male 27.00      0      0            211536 13.00   NaN        S  \n",
       "888  female   NaN      1      2        W./C. 6607 23.45   NaN        S  \n",
       "890    male 32.00      0      0            370376  7.75   NaN        Q  \n",
       "\n",
       "[708 rows x 12 columns]"
      ]
     },
     "execution_count": 70,
     "metadata": {},
     "output_type": "execute_result"
    }
   ],
   "source": [
    "df[df.isna().any(axis=1)]"
   ]
  },
  {
   "cell_type": "markdown",
   "id": "e3c65946",
   "metadata": {},
   "source": [
    "Dado que no deseamos tener valores _Nan_, será necesario contabilizar y tratar las columnas con este tipo de valores."
   ]
  },
  {
   "cell_type": "markdown",
   "id": "02035575",
   "metadata": {},
   "source": [
    "Comprobamos qué columnas tienen valores _NaN_ para saber si tendremos que cambiar alguna"
   ]
  },
  {
   "cell_type": "code",
   "execution_count": 71,
   "id": "67e2b9a7",
   "metadata": {},
   "outputs": [
    {
     "data": {
      "text/plain": [
       "PassengerId    False\n",
       "Survived       False\n",
       "Pclass         False\n",
       "Name           False\n",
       "Sex            False\n",
       "Age             True\n",
       "SibSp          False\n",
       "Parch          False\n",
       "Ticket         False\n",
       "Fare           False\n",
       "Cabin           True\n",
       "Embarked        True\n",
       "dtype: bool"
      ]
     },
     "execution_count": 71,
     "metadata": {},
     "output_type": "execute_result"
    }
   ],
   "source": [
    "df.isnull().any()"
   ]
  },
  {
   "cell_type": "markdown",
   "id": "e3aefc21",
   "metadata": {},
   "source": [
    "Podemos ver como el valor **True** ha salido en tres columnas, queriendo indicar que 3 de las 12 variables tienen valores _NaN_\n",
    "Estas variables serán las que tendremos que limpiar."
   ]
  },
  {
   "cell_type": "markdown",
   "id": "64c50cc4",
   "metadata": {},
   "source": [
    "Sin embargo, la forma en que se traten estas variables para eliminar sus valores _NaN_ será diferente en función de cuántos valores de este tipo tengan. Para saber cuántos valores _NaN_ hay en cada colmna haremos lo siguiente:"
   ]
  },
  {
   "cell_type": "markdown",
   "id": "9abe10b8",
   "metadata": {},
   "source": [
    "Con el uso de la función ``sum()`` podremos contar el numero de valores _Nan_ en el dataset. Esta función se la concatenaremos a ``df.isna()`` debido a que solo queremos contabilizar los valores _NaN_, y esta función nos devuelve exactamente eso."
   ]
  },
  {
   "cell_type": "code",
   "execution_count": 72,
   "id": "db9c3827",
   "metadata": {},
   "outputs": [
    {
     "data": {
      "text/plain": [
       "PassengerId      0\n",
       "Survived         0\n",
       "Pclass           0\n",
       "Name             0\n",
       "Sex              0\n",
       "Age            177\n",
       "SibSp            0\n",
       "Parch            0\n",
       "Ticket           0\n",
       "Fare             0\n",
       "Cabin          687\n",
       "Embarked         2\n",
       "dtype: int64"
      ]
     },
     "execution_count": 72,
     "metadata": {},
     "output_type": "execute_result"
    }
   ],
   "source": [
    "df.isna().sum()"
   ]
  },
  {
   "cell_type": "markdown",
   "id": "ee6544cb",
   "metadata": {},
   "source": [
    "Esto supone el siguiente procentaje de valores _NaN_ para cada columna:"
   ]
  },
  {
   "cell_type": "code",
   "execution_count": 73,
   "id": "b0cd1bb5",
   "metadata": {},
   "outputs": [
    {
     "name": "stdout",
     "output_type": "stream",
     "text": [
      "PassengerId    0.00\n",
      "Survived       0.00\n",
      "Pclass         0.00\n",
      "Name           0.00\n",
      "Sex            0.00\n",
      "SibSp          0.00\n",
      "Parch          0.00\n",
      "Ticket         0.00\n",
      "Fare           0.00\n",
      "Embarked       0.22\n",
      "Age           19.87\n",
      "Cabin         77.10\n",
      "dtype: float64\n"
     ]
    }
   ],
   "source": [
    "# Obtener el porcentaje de valores NaN\n",
    "na_ratio = ((df.isnull().sum() / len(df)) * 100).sort_values(ascending = True)\n",
    "\n",
    "# Imprimir el porcentaje obtenido\n",
    "print(na_ratio)"
   ]
  },
  {
   "cell_type": "markdown",
   "id": "7eb64f0f",
   "metadata": {},
   "source": [
    "El primer Output obtenido nos enseña la cantidad de valores _NaN_ en cada columna, y el segundo, el procentaje que esto supone en el total de valores que tiene la columna. Gracias a esto, vemos que la columna **Age** tiene un total de 177 valores _NaN_ suponiendo un 19'87% del total de valores, la columna **Cabin** tiene 687 valores _NaN_ suponiendo un total del 77'10% y la columna Embarked tiene únicamente 2 suponiendo un 0'22%."
   ]
  },
  {
   "cell_type": "markdown",
   "id": "0ef7cef5",
   "metadata": {},
   "source": [
    "Estas serán las columnas que tendremos que tratar para **limpiar el dataset**, ya que los valores _NaN_ no nos aportan información y no los queremos."
   ]
  },
  {
   "cell_type": "markdown",
   "id": "d42f3657",
   "metadata": {},
   "source": [
    "#### TRATAMIENTO DE LA COLUMNA Embarked\n",
    "Comencemos por analizar la columna ``Embarked`` tiene solamente 2 valores _NaN_, que son muy pocos ante las 891 filas totales del dataset, suponiendo por tanto un porcentaje pequeño del total. Además, la columna ``Embarked`` tiene solo 3 posibles valores: **S**, **C** y **Q**."
   ]
  },
  {
   "cell_type": "markdown",
   "id": "6b0cda69",
   "metadata": {},
   "source": [
    "Basándonos en lo anterior, la opción por la que se optará será por **sustituir** estos 2 valores _NaN_ **por el valor más frecuente** encontrado en la columna a lo largo del dataset. <br><br>\n",
    "Mediante el siguiente código, podemos crear un diagrama de barras que nos permita ver de una forma más sencilla cuál es el valor más repetido:"
   ]
  },
  {
   "cell_type": "code",
   "execution_count": 74,
   "id": "da0cb727",
   "metadata": {},
   "outputs": [
    {
     "data": {
      "image/png": "[encoded data removed]",
      "text/plain": [
       "<Figure size 640x480 with 1 Axes>"
      ]
     },
     "metadata": {},
     "output_type": "display_data"
    }
   ],
   "source": [
    "sea.countplot(x=\"Embarked\",data=df)\n",
    "plt.xlabel=(\"Embarked\")\n",
    "plt.show()"
   ]
  },
  {
   "cell_type": "markdown",
   "id": "15a4a8fd",
   "metadata": {},
   "source": [
    "El valor más repetido en el dataset para la columna ``Embarked`` es **S**, que triplica las apariciones de **C**, el siguiente valor más frecuente. Lo que haremos por tanto, será sustituir estos valores _NaN_ por el valor **S**"
   ]
  },
  {
   "cell_type": "markdown",
   "id": "8d6dc4a9",
   "metadata": {},
   "source": [
    "Para ello, usaremos la función ``fillna()``, que permite sustituir los valores nulos de una estructura pandas por otro valor."
   ]
  },
  {
   "cell_type": "markdown",
   "id": "a9942524",
   "metadata": {},
   "source": [
    "Existen 3 formas de hacerlo:\n",
    "- Pueden sustituirse por un valor concreto.\n",
    "- Puede utilizarse el anterior valor no nulo.\n",
    "- Puede utilizarse el posterior valor no nulo."
   ]
  },
  {
   "cell_type": "markdown",
   "id": "38696b6a",
   "metadata": {},
   "source": [
    "Las opciones 2 y 3 se descartan ya que lo que queremos es sustituir por el valor concreto **S**"
   ]
  },
  {
   "cell_type": "code",
   "execution_count": 75,
   "id": "7723f46b",
   "metadata": {},
   "outputs": [],
   "source": [
    "df[\"Embarked\"] = df[\"Embarked\"].fillna(\"S\")"
   ]
  },
  {
   "cell_type": "code",
   "execution_count": 76,
   "id": "a9d74eb3",
   "metadata": {},
   "outputs": [
    {
     "data": {
      "text/plain": [
       "PassengerId      0\n",
       "Survived         0\n",
       "Pclass           0\n",
       "Name             0\n",
       "Sex              0\n",
       "Age            177\n",
       "SibSp            0\n",
       "Parch            0\n",
       "Ticket           0\n",
       "Fare             0\n",
       "Cabin          687\n",
       "Embarked         0\n",
       "dtype: int64"
      ]
     },
     "execution_count": 76,
     "metadata": {},
     "output_type": "execute_result"
    }
   ],
   "source": [
    "df.isna().sum()"
   ]
  },
  {
   "cell_type": "markdown",
   "id": "357cadc3",
   "metadata": {},
   "source": [
    "Podemos ver como ahora ya no aparecen valores _NaN_ en la columna ``Embarked``"
   ]
  },
  {
   "cell_type": "markdown",
   "id": "655cdbdd",
   "metadata": {},
   "source": [
    "#### TRATAMIENTO DE LA COLUMNA Age\n",
    "Para el caso de la columna ``Age``, existen bastantes más valores _NaN_ que en el caso anterior. Además, el conjunto de posibles valores que puede tomar la columna no es discreto (se puede interpretar como un conjunto discreto de valores, ya que se puede suponer que ningún pasajero va atener una edad superior a 200 años, y se puede asegurar que no habrá edades con valor inferior a 0, pero en cualquier caso el conjunto de posibles valores es mucho mayor). <br><br>\n",
    "Por ello, para eliminar los valores _NaN_, la solución usada para la columna ``Embarked`` no es la óptima.<br><br>\n",
    "Por otro lado, inventarnos las edades sería algo ilógico ya que no hay ninguna información que podamos usar para asumir que estos pasajeros eran niños, adolescentes, jóvenes, adultos o ancianos. Estaríamos alterando el dataset y por tanto, los resultados."
   ]
  },
  {
   "cell_type": "markdown",
   "id": "76e7f194",
   "metadata": {},
   "source": [
    "En este caso, hemos optado por calcular una media de edades y **sustituir los valores _NaN_** por esta media haciendo uso de la función ``fillna()``."
   ]
  },
  {
   "cell_type": "code",
   "execution_count": 77,
   "id": "d38a8e2f",
   "metadata": {},
   "outputs": [],
   "source": [
    "df[\"Age\"]=df[\"Age\"].fillna(value=df[\"Age\"].mean())\n",
    "pd.set_option('display.float_format','{:.2f}'.format)"
   ]
  },
  {
   "cell_type": "markdown",
   "id": "3b8399b5",
   "metadata": {},
   "source": [
    "Una vez más, usaremos ``df.isna().sum()`` para comprobar la cantidad de _NaN_ una vez limpiada la columna."
   ]
  },
  {
   "cell_type": "code",
   "execution_count": 78,
   "id": "30c675ea",
   "metadata": {},
   "outputs": [
    {
     "data": {
      "text/plain": [
       "PassengerId      0\n",
       "Survived         0\n",
       "Pclass           0\n",
       "Name             0\n",
       "Sex              0\n",
       "Age              0\n",
       "SibSp            0\n",
       "Parch            0\n",
       "Ticket           0\n",
       "Fare             0\n",
       "Cabin          687\n",
       "Embarked         0\n",
       "dtype: int64"
      ]
     },
     "execution_count": 78,
     "metadata": {},
     "output_type": "execute_result"
    }
   ],
   "source": [
    "df.isna().sum()"
   ]
  },
  {
   "cell_type": "markdown",
   "id": "a6aa0598",
   "metadata": {},
   "source": [
    "La cantidad de valores _NaN_ en la columna ``Age`` es 0. Nos quedará limpiar la columna ``Cabin``"
   ]
  },
  {
   "cell_type": "markdown",
   "id": "4b72b2c0",
   "metadata": {},
   "source": [
    "#### TRATAMIENTO DE LA COLUMNA Cabin (y PassengerId)\n",
    "Para analizar esta columna es importante tener en cuenta la relación de la columna ``Cabin`` y ``Pclass``. Esta última nos determina la clase del pasajero. Será más probable que aquellos pasajeros de clase menor vayan en cubierta al no tener cabina por ser pasajeros de pocos recursos.\n",
    "\n",
    "Para poder hacer este análisis seguimos los siguientes pasos:<br> \n",
    "- 1. Creamos una copia del DataFrame original llamada ``df_sin_cabina`` en la que solo incluiremos las filas con valores nulos en ``Cabin`` , es decir, aquellos pasajeros que no disponían de cabina. <br><br>\n",
    "- 2. Utilizamos el método `count()` para contar la cantidad de pasajeros por cada clase en ``Pclass`` <br><br>\n",
    "- 3. Representamos la información mediante un histograma utilizando el método ``countplot()`` de la librería seaborn y pasando como parámetro el DataFrame ``df_sin_cabina`` nuevo que hemos creado."
   ]
  },
  {
   "cell_type": "code",
   "execution_count": 79,
   "id": "e425b66c",
   "metadata": {},
   "outputs": [],
   "source": [
    "#PASO 1. Creación del nuevo dataframe\n",
    "df_sin_cabina = df[df[\"Cabin\"].isna()]\n",
    "pclass_count = df_sin_cabina[\"Pclass\"].value_counts()"
   ]
  },
  {
   "cell_type": "markdown",
   "id": "2cf190fe",
   "metadata": {},
   "source": [
    "Ahora tenemos una copia del dataframe ``df`` guardada en otro nuevo dataframe ``df_sin_cabina``, por tanto, podemos pasar a contar la cantidad de pasajeros usando **count()** por cada clase en ``Pclass``.<br><br>\n",
    "Posteriormente, representaremos el resultado con un histograma (paso 3) utilizando el método ``countplot`` como se ha explicado anteriormente."
   ]
  },
  {
   "cell_type": "code",
   "execution_count": 80,
   "id": "2c4f032b",
   "metadata": {},
   "outputs": [
    {
     "name": "stdout",
     "output_type": "stream",
     "text": [
      "Pasajeros sin cabina separados por clase\n"
     ]
    },
    {
     "data": {
      "text/plain": [
       "3    479\n",
       "2    168\n",
       "1     40\n",
       "Name: Pclass, dtype: int64"
      ]
     },
     "execution_count": 80,
     "metadata": {},
     "output_type": "execute_result"
    },
    {
     "data": {
      "image/png": "[encoded data removed]",
      "text/plain": [
       "<Figure size 640x480 with 1 Axes>"
      ]
     },
     "metadata": {},
     "output_type": "display_data"
    }
   ],
   "source": [
    "#PASO 2. Usamos count() para contar los pasajeros por cada clase\n",
    "sea.countplot(x=\"Pclass\",data=df_sin_cabina)\n",
    "plt.xlabel=(\"Pclass\")\n",
    "plt.show\n",
    "\n",
    "#PASO 3.\n",
    "print(\"Pasajeros sin cabina separados por clase\")\n",
    "pclass_count"
   ]
  },
  {
   "cell_type": "markdown",
   "id": "387cd804",
   "metadata": {},
   "source": [
    "Se puede ver como hay menos de 100 pasajeros de 1ª clase sin cabina, cerca de 200 en 2ª clase y casi 500 en 3ª clase. Esto parece lógico ya que los pasajeros que viajan en primera clase son los que más recursos tienen y, por tanto, son pocos los que viajan sin cabina en comparación a los pasajeros de otras clases."
   ]
  },
  {
   "cell_type": "markdown",
   "id": "d851a2aa",
   "metadata": {},
   "source": [
    "Dado que hay más pasajeros de 3ª clase viajando sin cabina, es más fácil deducir en qué clase viajaba el pasajero si sabemos que no tenía cabina. <br><br>\n",
    "Puesto que la columna ``Pclass`` ya nos proporciona la información que necesitamos, **se eliminará la columna ``Cabin``** ya que tiene un número muy elevado de valores _NaN_. Esto se hará con la función ``drop()``, que recibirá por parámetro el nombre de la columna que se debe eliminar, y el valor **_True_** para ``inplace``, que indica que los cambios se harán sobre el dfactual."
   ]
  },
  {
   "cell_type": "code",
   "execution_count": 81,
   "id": "6a2b9e92",
   "metadata": {},
   "outputs": [],
   "source": [
    "# ---> Eliminación de la columna Cabin y PassengerId\n",
    "df.drop([\"Cabin\",\"PassengerId\"],axis=1,inplace=True)"
   ]
  },
  {
   "cell_type": "markdown",
   "id": "3017eb61",
   "metadata": {},
   "source": [
    "### NOTA:\n",
    "Se ha eliminado tambien la columna _passengerId_ porque la identificación del pasajero no tiene relevancia en la probabilidad de sobrevivir al naufragio o no. Tener esta variable entorpecería el posterior cálculo de las precisiones de los modelos y las operaciones que estos hacen. "
   ]
  },
  {
   "cell_type": "markdown",
   "id": "6896b0dd",
   "metadata": {},
   "source": [
    "Una vez más, usemos ``df.isna().sum()`` para contar la cantidad de valores _NaN_ en cada columna y comprobar la presencia de estos valores en el dataset."
   ]
  },
  {
   "cell_type": "code",
   "execution_count": 82,
   "id": "da9783b5",
   "metadata": {},
   "outputs": [
    {
     "data": {
      "text/plain": [
       "Survived    0\n",
       "Pclass      0\n",
       "Name        0\n",
       "Sex         0\n",
       "Age         0\n",
       "SibSp       0\n",
       "Parch       0\n",
       "Ticket      0\n",
       "Fare        0\n",
       "Embarked    0\n",
       "dtype: int64"
      ]
     },
     "execution_count": 82,
     "metadata": {},
     "output_type": "execute_result"
    }
   ],
   "source": [
    "df.isna().sum()"
   ]
  },
  {
   "cell_type": "markdown",
   "id": "2ba14be6",
   "metadata": {},
   "source": [
    "Vemos como ahora ya no existe la columna ``Cabin`` y por tanto, ya no hay valores _NaN_ en el dataset. <br><br>\n",
    "**Hemos limpiado el dataset** de este tipo de valores."
   ]
  },
  {
   "cell_type": "markdown",
   "id": "1adb03cc",
   "metadata": {},
   "source": [
    "<br><br>\n",
    "### 1.1.2) Presencia de datos categóricos\n",
    "El objetivo de la práctica, tal y como se ha explicado previamente en el apartado de **Introducción**, es hacer un estudio sobre la probabilidad de supervivencia de pasajeros en el Titanic, para lo cuál suena evidente que necesitaremos valores numéricos con los que tratar. Sin embargo, el dataset cuenta con **datos categóricos**, que son datos de tipo no numérico.<br><br>\n",
    "Tal y como su nombre indica, estos valores ayudan a establecer una categoría en la que 'encasillar' a los pasajeros; por ejemplo sexo, religión, etc..."
   ]
  },
  {
   "cell_type": "markdown",
   "id": "67d0f4dc",
   "metadata": {},
   "source": [
    "Las columnas con datos de tipo categórico son:\n",
    "- Name\n",
    "- Sex\n",
    "- Embarked\n",
    "- Ticket"
   ]
  },
  {
   "cell_type": "markdown",
   "id": "1d1311c6",
   "metadata": {},
   "source": [
    "#### 1.1.2.1)  Name & Ticket\n",
    "Los datos categóricos son muy útiles para conocer información de cualquier tipo de cualidad o propiedad de los pasajeros. Para el caso de las columnas ``Name`` y ``Ticket``, estas presentan **datos contínuos**. Las continuas nos aportan datos cuantitativos, es decir, pueden adoptar un valor cualquiera dentro de un rango."
   ]
  },
  {
   "cell_type": "markdown",
   "id": "704ac91f",
   "metadata": {},
   "source": [
    "**Descartaremos**, por tanto, este tipo de datos ya que son **datos contínuos**, y la representación numérica de estos no es factible. Para ello, haremos uso de la función ``drop()`` tal y como se usó para eliminar la columna ``Cabin`` en el apartado **1.1.1**"
   ]
  },
  {
   "cell_type": "code",
   "execution_count": 83,
   "id": "158fe6e3",
   "metadata": {},
   "outputs": [
    {
     "data": {
      "text/html": [
       "<div>\n",
       "<style scoped>\n",
       "    .dataframe tbody tr th:only-of-type {\n",
       "        vertical-align: middle;\n",
       "    }\n",
       "\n",
       "    .dataframe tbody tr th {\n",
       "        vertical-align: top;\n",
       "    }\n",
       "\n",
       "    .dataframe thead th {\n",
       "        text-align: right;\n",
       "    }\n",
       "</style>\n",
       "<table border=\"1\" class=\"dataframe\">\n",
       "  <thead>\n",
       "    <tr style=\"text-align: right;\">\n",
       "      <th></th>\n",
       "      <th>Survived</th>\n",
       "      <th>Pclass</th>\n",
       "      <th>Sex</th>\n",
       "      <th>Age</th>\n",
       "      <th>SibSp</th>\n",
       "      <th>Parch</th>\n",
       "      <th>Fare</th>\n",
       "      <th>Embarked</th>\n",
       "    </tr>\n",
       "  </thead>\n",
       "  <tbody>\n",
       "    <tr>\n",
       "      <th>0</th>\n",
       "      <td>0</td>\n",
       "      <td>3</td>\n",
       "      <td>male</td>\n",
       "      <td>22.00</td>\n",
       "      <td>1</td>\n",
       "      <td>0</td>\n",
       "      <td>7.25</td>\n",
       "      <td>S</td>\n",
       "    </tr>\n",
       "    <tr>\n",
       "      <th>1</th>\n",
       "      <td>1</td>\n",
       "      <td>1</td>\n",
       "      <td>female</td>\n",
       "      <td>38.00</td>\n",
       "      <td>1</td>\n",
       "      <td>0</td>\n",
       "      <td>71.28</td>\n",
       "      <td>C</td>\n",
       "    </tr>\n",
       "    <tr>\n",
       "      <th>2</th>\n",
       "      <td>1</td>\n",
       "      <td>3</td>\n",
       "      <td>female</td>\n",
       "      <td>26.00</td>\n",
       "      <td>0</td>\n",
       "      <td>0</td>\n",
       "      <td>7.92</td>\n",
       "      <td>S</td>\n",
       "    </tr>\n",
       "    <tr>\n",
       "      <th>3</th>\n",
       "      <td>1</td>\n",
       "      <td>1</td>\n",
       "      <td>female</td>\n",
       "      <td>35.00</td>\n",
       "      <td>1</td>\n",
       "      <td>0</td>\n",
       "      <td>53.10</td>\n",
       "      <td>S</td>\n",
       "    </tr>\n",
       "    <tr>\n",
       "      <th>4</th>\n",
       "      <td>0</td>\n",
       "      <td>3</td>\n",
       "      <td>male</td>\n",
       "      <td>35.00</td>\n",
       "      <td>0</td>\n",
       "      <td>0</td>\n",
       "      <td>8.05</td>\n",
       "      <td>S</td>\n",
       "    </tr>\n",
       "    <tr>\n",
       "      <th>...</th>\n",
       "      <td>...</td>\n",
       "      <td>...</td>\n",
       "      <td>...</td>\n",
       "      <td>...</td>\n",
       "      <td>...</td>\n",
       "      <td>...</td>\n",
       "      <td>...</td>\n",
       "      <td>...</td>\n",
       "    </tr>\n",
       "    <tr>\n",
       "      <th>886</th>\n",
       "      <td>0</td>\n",
       "      <td>2</td>\n",
       "      <td>male</td>\n",
       "      <td>27.00</td>\n",
       "      <td>0</td>\n",
       "      <td>0</td>\n",
       "      <td>13.00</td>\n",
       "      <td>S</td>\n",
       "    </tr>\n",
       "    <tr>\n",
       "      <th>887</th>\n",
       "      <td>1</td>\n",
       "      <td>1</td>\n",
       "      <td>female</td>\n",
       "      <td>19.00</td>\n",
       "      <td>0</td>\n",
       "      <td>0</td>\n",
       "      <td>30.00</td>\n",
       "      <td>S</td>\n",
       "    </tr>\n",
       "    <tr>\n",
       "      <th>888</th>\n",
       "      <td>0</td>\n",
       "      <td>3</td>\n",
       "      <td>female</td>\n",
       "      <td>29.70</td>\n",
       "      <td>1</td>\n",
       "      <td>2</td>\n",
       "      <td>23.45</td>\n",
       "      <td>S</td>\n",
       "    </tr>\n",
       "    <tr>\n",
       "      <th>889</th>\n",
       "      <td>1</td>\n",
       "      <td>1</td>\n",
       "      <td>male</td>\n",
       "      <td>26.00</td>\n",
       "      <td>0</td>\n",
       "      <td>0</td>\n",
       "      <td>30.00</td>\n",
       "      <td>C</td>\n",
       "    </tr>\n",
       "    <tr>\n",
       "      <th>890</th>\n",
       "      <td>0</td>\n",
       "      <td>3</td>\n",
       "      <td>male</td>\n",
       "      <td>32.00</td>\n",
       "      <td>0</td>\n",
       "      <td>0</td>\n",
       "      <td>7.75</td>\n",
       "      <td>Q</td>\n",
       "    </tr>\n",
       "  </tbody>\n",
       "</table>\n",
       "<p>891 rows × 8 columns</p>\n",
       "</div>"
      ],
      "text/plain": [
       "     Survived  Pclass     Sex   Age  SibSp  Parch  Fare Embarked\n",
       "0           0       3    male 22.00      1      0  7.25        S\n",
       "1           1       1  female 38.00      1      0 71.28        C\n",
       "2           1       3  female 26.00      0      0  7.92        S\n",
       "3           1       1  female 35.00      1      0 53.10        S\n",
       "4           0       3    male 35.00      0      0  8.05        S\n",
       "..        ...     ...     ...   ...    ...    ...   ...      ...\n",
       "886         0       2    male 27.00      0      0 13.00        S\n",
       "887         1       1  female 19.00      0      0 30.00        S\n",
       "888         0       3  female 29.70      1      2 23.45        S\n",
       "889         1       1    male 26.00      0      0 30.00        C\n",
       "890         0       3    male 32.00      0      0  7.75        Q\n",
       "\n",
       "[891 rows x 8 columns]"
      ]
     },
     "execution_count": 83,
     "metadata": {},
     "output_type": "execute_result"
    }
   ],
   "source": [
    "# Eliminación de las columnas Name y Ticket\n",
    "df.drop([\"Name\",\"Ticket\"], axis=1, inplace=True)\n",
    "\n",
    "# Mostrar dataset\n",
    "df"
   ]
  },
  {
   "cell_type": "markdown",
   "id": "dd3e4ad2",
   "metadata": {},
   "source": [
    "**OBSERVACIÓN:** Se puede ver como ``df`` sigue teniendo 891 filas, pero ahora cuenta solo con 9 columnas (frente a las 12 que había inicialmente). Esto se debe a la eliminación de las columnas ``Cabin`` (apartado **1.1.1**), ``Name`` y ``ticket``"
   ]
  },
  {
   "cell_type": "markdown",
   "id": "c502cf9a",
   "metadata": {},
   "source": [
    "#### 1.1.2.2) Sex & Embarked\n"
   ]
  },
  {
   "cell_type": "markdown",
   "id": "384a28bb",
   "metadata": {},
   "source": [
    "Para el caso de las columnas ``Sex`` y ``Embarked``, estas pueden adoptar un **conjunto discreto de valores** (es decir pueden adoptar unos valores específicos, como por ejemplo, Male y Female para el caso de _Sex_), por tanto podemos hacer una representación numérica de estos valores."
   ]
  },
  {
   "cell_type": "markdown",
   "id": "51a9d933",
   "metadata": {},
   "source": [
    "Tendremos que buscar una forma de cambiar el formato del dato para conseguir representar de forma numérica este tipo de valores (por ejemplo, 0 = hombre y 1 = mujer)."
   ]
  },
  {
   "cell_type": "markdown",
   "id": "cd79365c",
   "metadata": {},
   "source": [
    "Para ello, se puede usar un formato **``ONE HOT``**, que es un sistema de codificación que se usa a menudo para indicar el estado de una máquina de estados. La ventaja que este sistema supone frente a otros sistemas de codificación es que no nos hará falta un decodificador."
   ]
  },
  {
   "cell_type": "markdown",
   "id": "49ef3cf5",
   "metadata": {},
   "source": [
    "Podemos extrapolar esto y, mediante la creación de **``DUMMIES``** (variables ficticias usadas para explicar valores cualitativos), codificar nuestra columnas ``Sex`` y ``Embarked``.\n",
    "Para ellos se usará la función ``get_dummies()`` de la librerí ``pandas``"
   ]
  },
  {
   "cell_type": "code",
   "execution_count": 84,
   "id": "5b652ee6",
   "metadata": {},
   "outputs": [
    {
     "data": {
      "text/html": [
       "<div>\n",
       "<style scoped>\n",
       "    .dataframe tbody tr th:only-of-type {\n",
       "        vertical-align: middle;\n",
       "    }\n",
       "\n",
       "    .dataframe tbody tr th {\n",
       "        vertical-align: top;\n",
       "    }\n",
       "\n",
       "    .dataframe thead th {\n",
       "        text-align: right;\n",
       "    }\n",
       "</style>\n",
       "<table border=\"1\" class=\"dataframe\">\n",
       "  <thead>\n",
       "    <tr style=\"text-align: right;\">\n",
       "      <th></th>\n",
       "      <th>Survived</th>\n",
       "      <th>Pclass</th>\n",
       "      <th>Age</th>\n",
       "      <th>SibSp</th>\n",
       "      <th>Parch</th>\n",
       "      <th>Fare</th>\n",
       "      <th>Sex_male</th>\n",
       "      <th>Embarked_Q</th>\n",
       "      <th>Embarked_S</th>\n",
       "    </tr>\n",
       "  </thead>\n",
       "  <tbody>\n",
       "    <tr>\n",
       "      <th>0</th>\n",
       "      <td>0</td>\n",
       "      <td>3</td>\n",
       "      <td>22.00</td>\n",
       "      <td>1</td>\n",
       "      <td>0</td>\n",
       "      <td>7.25</td>\n",
       "      <td>1</td>\n",
       "      <td>0</td>\n",
       "      <td>1</td>\n",
       "    </tr>\n",
       "    <tr>\n",
       "      <th>1</th>\n",
       "      <td>1</td>\n",
       "      <td>1</td>\n",
       "      <td>38.00</td>\n",
       "      <td>1</td>\n",
       "      <td>0</td>\n",
       "      <td>71.28</td>\n",
       "      <td>0</td>\n",
       "      <td>0</td>\n",
       "      <td>0</td>\n",
       "    </tr>\n",
       "    <tr>\n",
       "      <th>2</th>\n",
       "      <td>1</td>\n",
       "      <td>3</td>\n",
       "      <td>26.00</td>\n",
       "      <td>0</td>\n",
       "      <td>0</td>\n",
       "      <td>7.92</td>\n",
       "      <td>0</td>\n",
       "      <td>0</td>\n",
       "      <td>1</td>\n",
       "    </tr>\n",
       "    <tr>\n",
       "      <th>3</th>\n",
       "      <td>1</td>\n",
       "      <td>1</td>\n",
       "      <td>35.00</td>\n",
       "      <td>1</td>\n",
       "      <td>0</td>\n",
       "      <td>53.10</td>\n",
       "      <td>0</td>\n",
       "      <td>0</td>\n",
       "      <td>1</td>\n",
       "    </tr>\n",
       "    <tr>\n",
       "      <th>4</th>\n",
       "      <td>0</td>\n",
       "      <td>3</td>\n",
       "      <td>35.00</td>\n",
       "      <td>0</td>\n",
       "      <td>0</td>\n",
       "      <td>8.05</td>\n",
       "      <td>1</td>\n",
       "      <td>0</td>\n",
       "      <td>1</td>\n",
       "    </tr>\n",
       "    <tr>\n",
       "      <th>...</th>\n",
       "      <td>...</td>\n",
       "      <td>...</td>\n",
       "      <td>...</td>\n",
       "      <td>...</td>\n",
       "      <td>...</td>\n",
       "      <td>...</td>\n",
       "      <td>...</td>\n",
       "      <td>...</td>\n",
       "      <td>...</td>\n",
       "    </tr>\n",
       "    <tr>\n",
       "      <th>886</th>\n",
       "      <td>0</td>\n",
       "      <td>2</td>\n",
       "      <td>27.00</td>\n",
       "      <td>0</td>\n",
       "      <td>0</td>\n",
       "      <td>13.00</td>\n",
       "      <td>1</td>\n",
       "      <td>0</td>\n",
       "      <td>1</td>\n",
       "    </tr>\n",
       "    <tr>\n",
       "      <th>887</th>\n",
       "      <td>1</td>\n",
       "      <td>1</td>\n",
       "      <td>19.00</td>\n",
       "      <td>0</td>\n",
       "      <td>0</td>\n",
       "      <td>30.00</td>\n",
       "      <td>0</td>\n",
       "      <td>0</td>\n",
       "      <td>1</td>\n",
       "    </tr>\n",
       "    <tr>\n",
       "      <th>888</th>\n",
       "      <td>0</td>\n",
       "      <td>3</td>\n",
       "      <td>29.70</td>\n",
       "      <td>1</td>\n",
       "      <td>2</td>\n",
       "      <td>23.45</td>\n",
       "      <td>0</td>\n",
       "      <td>0</td>\n",
       "      <td>1</td>\n",
       "    </tr>\n",
       "    <tr>\n",
       "      <th>889</th>\n",
       "      <td>1</td>\n",
       "      <td>1</td>\n",
       "      <td>26.00</td>\n",
       "      <td>0</td>\n",
       "      <td>0</td>\n",
       "      <td>30.00</td>\n",
       "      <td>1</td>\n",
       "      <td>0</td>\n",
       "      <td>0</td>\n",
       "    </tr>\n",
       "    <tr>\n",
       "      <th>890</th>\n",
       "      <td>0</td>\n",
       "      <td>3</td>\n",
       "      <td>32.00</td>\n",
       "      <td>0</td>\n",
       "      <td>0</td>\n",
       "      <td>7.75</td>\n",
       "      <td>1</td>\n",
       "      <td>1</td>\n",
       "      <td>0</td>\n",
       "    </tr>\n",
       "  </tbody>\n",
       "</table>\n",
       "<p>891 rows × 9 columns</p>\n",
       "</div>"
      ],
      "text/plain": [
       "     Survived  Pclass   Age  SibSp  Parch  Fare  Sex_male  Embarked_Q  \\\n",
       "0           0       3 22.00      1      0  7.25         1           0   \n",
       "1           1       1 38.00      1      0 71.28         0           0   \n",
       "2           1       3 26.00      0      0  7.92         0           0   \n",
       "3           1       1 35.00      1      0 53.10         0           0   \n",
       "4           0       3 35.00      0      0  8.05         1           0   \n",
       "..        ...     ...   ...    ...    ...   ...       ...         ...   \n",
       "886         0       2 27.00      0      0 13.00         1           0   \n",
       "887         1       1 19.00      0      0 30.00         0           0   \n",
       "888         0       3 29.70      1      2 23.45         0           0   \n",
       "889         1       1 26.00      0      0 30.00         1           0   \n",
       "890         0       3 32.00      0      0  7.75         1           1   \n",
       "\n",
       "     Embarked_S  \n",
       "0             1  \n",
       "1             0  \n",
       "2             1  \n",
       "3             1  \n",
       "4             1  \n",
       "..          ...  \n",
       "886           1  \n",
       "887           1  \n",
       "888           1  \n",
       "889           0  \n",
       "890           0  \n",
       "\n",
       "[891 rows x 9 columns]"
      ]
     },
     "execution_count": 84,
     "metadata": {},
     "output_type": "execute_result"
    }
   ],
   "source": [
    "# Creación de dummies\n",
    "df = pd.get_dummies(df, drop_first=True)\n",
    "\n",
    "# Mostrar Dataset\n",
    "df"
   ]
  },
  {
   "cell_type": "markdown",
   "id": "f42c7936",
   "metadata": {},
   "source": [
    "**OBSERVACIÓN:** Se puede ver como ahora en el dataset hay 10 columnas, es decir, el número de columnas ha aumentado en 1. Esto es porque ahora la columna ``Sex`` se ha convertido en ``Sex_male``, donde 0 representa que el sexo no es Male, y el 1 representa que el sexo del pasajero sí es Male. Por otro lado, como no era posible hacer esto con la columna ``Embarked``, lo que se ha hecho es dividirla por ciudades. Es por esto que se puede ver que ahora la columna se divide en:\n",
    "- Embarked_Q\n",
    "- Embarked_S"
   ]
  },
  {
   "cell_type": "markdown",
   "id": "d6ded44c",
   "metadata": {},
   "source": [
    "Tras esto, **el dataset está suficientemente tratado o \"limpio\"** para comenzar con la implementación de los modelos predictivos"
   ]
  },
  {
   "cell_type": "markdown",
   "id": "1de3b5a4",
   "metadata": {},
   "source": [
    "<br><br>\n",
    "### 1.1.3) Análisis del dataset\n",
    "Analizemos el dataset mediante la creación de algunos diagramas o representaciones gráficas:"
   ]
  },
  {
   "cell_type": "markdown",
   "id": "4bdedfab",
   "metadata": {},
   "source": [
    "Comenzaremos creando una correlación de todas las variables para analizarlas, usando un mapa de calor con la función ``heatmap()``"
   ]
  },
  {
   "cell_type": "markdown",
   "id": "00181cf0",
   "metadata": {},
   "source": [
    "Las librerías necesarias son seaborn, pandas y numpy. Una vez realizado el import de estas, se utiliza la función heatmap de seaborn dándole el dataset. La función únicamente necesita este dataset que contiene los valores a representar, aunque se puede indicar otros parámetros para personalizar el resultado.<br><br>\n",
    "Los parámetros que le pasaremos a la función son:\n",
    "\n",
    "**CENTER**: El valor en el cual centrar el mapa de color al hacer la representación del dataset.<br>\n",
    "**CMAP**: Indica el mapa o el color del mapa que se utilizará. En nuestro caso, _RdYlGn_ significa Red, Yellow y Green.<br>\n",
    "**ANOT**: Indica si se representa o no la magnitud de cada celda.<br>\n",
    "**FMT**: Es el formato con el que se representará la magnitud. Nosotros usaremos 2 cifras<br>"
   ]
  },
  {
   "cell_type": "code",
   "execution_count": 85,
   "id": "251467b6",
   "metadata": {
    "scrolled": false
   },
   "outputs": [
    {
     "data": {
      "text/plain": [
       "<AxesSubplot:>"
      ]
     },
     "execution_count": 85,
     "metadata": {},
     "output_type": "execute_result"
    },
    {
     "data": {
      "image/png": "[encoded data removed]",
      "text/plain": [
       "<Figure size 900x900 with 2 Axes>"
      ]
     },
     "metadata": {},
     "output_type": "display_data"
    }
   ],
   "source": [
    "# Copia del dataset\n",
    "model = df\n",
    "# Crear mapa de calor para la correlación\n",
    "corr_fig = plt.figure(figsize=(9,9))\n",
    "sea.heatmap(model.corr(), annot=True, square=True, cmap=\"RdYlGn\", linewidths=0.2)"
   ]
  },
  {
   "cell_type": "markdown",
   "id": "4bddfdc0",
   "metadata": {},
   "source": [
    "<br><br>\n",
    "## 1.2) Modelos predictivos\n"
   ]
  },
  {
   "cell_type": "markdown",
   "id": "a2bac444",
   "metadata": {},
   "source": [
    "Para crear los modelos predictivos, tenemos que separar los datos de ``df`` en **training** y **test sets**. Esto lo haremos con la ayuda de la función **``train_test_split()``**. <br>A esta función, le pasaremos los parámetros **test_size = 0'3** para asignar un 30% de test (y por tanto 70% de training)<br>\n",
    "También hacemos uso del `scaler`para la normalización de los datos para que puedas ser comparados más fácilmente."
   ]
  },
  {
   "cell_type": "code",
   "execution_count": 86,
   "id": "110010df",
   "metadata": {},
   "outputs": [],
   "source": [
    "# Inicialización de la clase MinMaxScaler\n",
    "scaler = preprocessing.MinMaxScaler()\n",
    "\n",
    "# Separación de la columna \"Survived\" como variable objetivo \"y\"\n",
    "y = model[\"Survived\"]\n",
    "\n",
    "# Eliminación de la columna \"Survived\" del conjunto de datos \"x\"\n",
    "x = model.drop(\"Survived\", axis=1)\n",
    "\n",
    "# Escalamiento de las variables de \"x\" con la clase MinMaxScaler\n",
    "x = scaler.fit_transform(x)\n",
    "\n",
    "# División de los datos en conjuntos de entrenamiento y prueba\n",
    "# con un tamaño de prueba del 30% y una semilla aleatoria fija en 2\n",
    "x_train, x_test, y_train, y_test = train_test_split(x, y, test_size=0.3, stratify=y , random_state=2)"
   ]
  },
  {
   "cell_type": "markdown",
   "id": "3d38ca4a",
   "metadata": {},
   "source": [
    "Ahora ya podemos usar estos training/test set para los modelos predictivos"
   ]
  },
  {
   "cell_type": "markdown",
   "id": "59a3197f",
   "metadata": {},
   "source": [
    "### 1.2.1) PERCEPTRON\n",
    "Recordemos que el Perceptron es un clasificador binario que, dadas unas entradas, nos devuelve una salida. El perceptron tiene un modelo de aprendizaje y un algoritmo de **entrenamiento de datos**.\n",
    "Vamos a crear uno y a entrenar los datos haciendo uso de la función ``fit()``."
   ]
  },
  {
   "cell_type": "markdown",
   "id": "98c8453b",
   "metadata": {},
   "source": [
    "**ENTRENAMIENTO**"
   ]
  },
  {
   "cell_type": "code",
   "execution_count": 87,
   "id": "bcb88823",
   "metadata": {},
   "outputs": [
    {
     "data": {
      "text/html": [
       "<style>#sk-container-id-5 {color: black;background-color: white;}#sk-container-id-5 pre{padding: 0;}#sk-container-id-5 div.sk-toggleable {background-color: white;}#sk-container-id-5 label.sk-toggleable__label {cursor: pointer;display: block;width: 100%;margin-bottom: 0;padding: 0.3em;box-sizing: border-box;text-align: center;}#sk-container-id-5 label.sk-toggleable__label-arrow:before {content: \"▸\";float: left;margin-right: 0.25em;color: #696969;}#sk-container-id-5 label.sk-toggleable__label-arrow:hover:before {color: black;}#sk-container-id-5 div.sk-estimator:hover label.sk-toggleable__label-arrow:before {color: black;}#sk-container-id-5 div.sk-toggleable__content {max-height: 0;max-width: 0;overflow: hidden;text-align: left;background-color: #f0f8ff;}#sk-container-id-5 div.sk-toggleable__content pre {margin: 0.2em;color: black;border-radius: 0.25em;background-color: #f0f8ff;}#sk-container-id-5 input.sk-toggleable__control:checked~div.sk-toggleable__content {max-height: 200px;max-width: 100%;overflow: auto;}#sk-container-id-5 input.sk-toggleable__control:checked~label.sk-toggleable__label-arrow:before {content: \"▾\";}#sk-container-id-5 div.sk-estimator input.sk-toggleable__control:checked~label.sk-toggleable__label {background-color: #d4ebff;}#sk-container-id-5 div.sk-label input.sk-toggleable__control:checked~label.sk-toggleable__label {background-color: #d4ebff;}#sk-container-id-5 input.sk-hidden--visually {border: 0;clip: rect(1px 1px 1px 1px);clip: rect(1px, 1px, 1px, 1px);height: 1px;margin: -1px;overflow: hidden;padding: 0;position: absolute;width: 1px;}#sk-container-id-5 div.sk-estimator {font-family: monospace;background-color: #f0f8ff;border: 1px dotted black;border-radius: 0.25em;box-sizing: border-box;margin-bottom: 0.5em;}#sk-container-id-5 div.sk-estimator:hover {background-color: #d4ebff;}#sk-container-id-5 div.sk-parallel-item::after {content: \"\";width: 100%;border-bottom: 1px solid gray;flex-grow: 1;}#sk-container-id-5 div.sk-label:hover label.sk-toggleable__label {background-color: #d4ebff;}#sk-container-id-5 div.sk-serial::before {content: \"\";position: absolute;border-left: 1px solid gray;box-sizing: border-box;top: 0;bottom: 0;left: 50%;z-index: 0;}#sk-container-id-5 div.sk-serial {display: flex;flex-direction: column;align-items: center;background-color: white;padding-right: 0.2em;padding-left: 0.2em;position: relative;}#sk-container-id-5 div.sk-item {position: relative;z-index: 1;}#sk-container-id-5 div.sk-parallel {display: flex;align-items: stretch;justify-content: center;background-color: white;position: relative;}#sk-container-id-5 div.sk-item::before, #sk-container-id-5 div.sk-parallel-item::before {content: \"\";position: absolute;border-left: 1px solid gray;box-sizing: border-box;top: 0;bottom: 0;left: 50%;z-index: -1;}#sk-container-id-5 div.sk-parallel-item {display: flex;flex-direction: column;z-index: 1;position: relative;background-color: white;}#sk-container-id-5 div.sk-parallel-item:first-child::after {align-self: flex-end;width: 50%;}#sk-container-id-5 div.sk-parallel-item:last-child::after {align-self: flex-start;width: 50%;}#sk-container-id-5 div.sk-parallel-item:only-child::after {width: 0;}#sk-container-id-5 div.sk-dashed-wrapped {border: 1px dashed gray;margin: 0 0.4em 0.5em 0.4em;box-sizing: border-box;padding-bottom: 0.4em;background-color: white;}#sk-container-id-5 div.sk-label label {font-family: monospace;font-weight: bold;display: inline-block;line-height: 1.2em;}#sk-container-id-5 div.sk-label-container {text-align: center;}#sk-container-id-5 div.sk-container {/* jupyter's `normalize.less` sets `[hidden] { display: none; }` but bootstrap.min.css set `[hidden] { display: none !important; }` so we also need the `!important` here to be able to override the default hidden behavior on the sphinx rendered scikit-learn.org. See: https://github.com/scikit-learn/scikit-learn/issues/21755 */display: inline-block !important;position: relative;}#sk-container-id-5 div.sk-text-repr-fallback {display: none;}</style><div id=\"sk-container-id-5\" class=\"sk-top-container\"><div class=\"sk-text-repr-fallback\"><pre>Perceptron()</pre><b>In a Jupyter environment, please rerun this cell to show the HTML representation or trust the notebook. <br />On GitHub, the HTML representation is unable to render, please try loading this page with nbviewer.org.</b></div><div class=\"sk-container\" hidden><div class=\"sk-item\"><div class=\"sk-estimator sk-toggleable\"><input class=\"sk-toggleable__control sk-hidden--visually\" id=\"sk-estimator-id-5\" type=\"checkbox\" checked><label for=\"sk-estimator-id-5\" class=\"sk-toggleable__label sk-toggleable__label-arrow\">Perceptron</label><div class=\"sk-toggleable__content\"><pre>Perceptron()</pre></div></div></div></div></div>"
      ],
      "text/plain": [
       "Perceptron()"
      ]
     },
     "execution_count": 87,
     "metadata": {},
     "output_type": "execute_result"
    }
   ],
   "source": [
    "perceptron = Perceptron()\n",
    "perceptron.fit(x_train,y_train)"
   ]
  },
  {
   "cell_type": "markdown",
   "id": "4782956d",
   "metadata": {},
   "source": [
    "Hecho esto, podemos obtener la predicción del perceptron en base a estos datos entrenados. Para conseguirla, usaremos la función ``predict()``, a la que le proporcionaremos ``x_test`` como parámetro. El resultado se almacenará en ``y_pred_perceptron``."
   ]
  },
  {
   "cell_type": "markdown",
   "id": "fb4e4b0e",
   "metadata": {},
   "source": [
    "**PREDICCIÓN Y EVALUACIÓN:**"
   ]
  },
  {
   "cell_type": "code",
   "execution_count": 88,
   "id": "3b93b9a7",
   "metadata": {},
   "outputs": [],
   "source": [
    "y_pred_perceptron = perceptron.predict(x_test)"
   ]
  },
  {
   "cell_type": "markdown",
   "id": "c3bcdaeb",
   "metadata": {},
   "source": [
    "Para medir la precisión de esta predicción, guardaremos en ``accuracy_perceptron`` el valor redondeado de la score que devuelve el perceptrón con estos datos entrenados. Para hacer esto, llamaremos a la función **``score()``** del perceptrón y guardaremos su resultado en una variable (score). Posteriormente, redondearemos este score y lo guardaremos en accuracy_perceptron para luego imprimirlo. <br><br>\n",
    "Esto lo haremos con la ayuda de la función **``round()``**, que recibe un número en coma flotante y devuelve un número entero redondeado a tantas cifras como se le indique (en nuestro caso bastará con 2 cifras)"
   ]
  },
  {
   "cell_type": "code",
   "execution_count": 89,
   "id": "9fa6e519",
   "metadata": {},
   "outputs": [
    {
     "name": "stdout",
     "output_type": "stream",
     "text": [
      "68.66 %\n"
     ]
    }
   ],
   "source": [
    "# Se obtiene el score del perceptron y se almacena\n",
    "score = perceptron.score(x_test, y_test)\n",
    "\n",
    "# Se calcula la precisión con el score (se multiplica x100 para pasarlo a porcentaje)\n",
    "accuracy_perceptron = round(score*100,2)  # Se redondea a 2 cifras\n",
    "\n",
    "# Mostrar precisión obtenida\n",
    "print(accuracy_perceptron,\"%\")"
   ]
  },
  {
   "cell_type": "markdown",
   "id": "e16e48ed",
   "metadata": {},
   "source": [
    "Mostremos ahora la clasificación obtenida por el perceptron, en una tabla que muestre la _precisión_, el _recall_, _f1-score_ y _support_"
   ]
  },
  {
   "cell_type": "code",
   "execution_count": 90,
   "id": "21fa4081",
   "metadata": {
    "scrolled": true
   },
   "outputs": [
    {
     "name": "stdout",
     "output_type": "stream",
     "text": [
      "              precision    recall  f1-score   support\n",
      "\n",
      "           0       0.83      0.61      0.71       165\n",
      "           1       0.56      0.81      0.66       103\n",
      "\n",
      "    accuracy                           0.69       268\n",
      "   macro avg       0.70      0.71      0.69       268\n",
      "weighted avg       0.73      0.69      0.69       268\n",
      "\n"
     ]
    }
   ],
   "source": [
    "print(classification_report(y_test, y_pred_perceptron))"
   ]
  },
  {
   "cell_type": "markdown",
   "id": "c7e33a5c",
   "metadata": {},
   "source": [
    "**MATRIZ DE CONFUSIÓN**"
   ]
  },
  {
   "cell_type": "markdown",
   "id": "93aceecd",
   "metadata": {},
   "source": [
    "Veamos ahora una representación más clara de la predicción obtenida en contraposición con el valor actual haciendo uso de una **``matriz de confusión``**. Esta matriz es una herramienta que permite la visualización del desempeño de un algoritmo como el anterior"
   ]
  },
  {
   "cell_type": "code",
   "execution_count": 91,
   "id": "bac19653",
   "metadata": {},
   "outputs": [
    {
     "name": "stdout",
     "output_type": "stream",
     "text": [
      "                      Pred: NO Sobrevive  Pred: Sobrevive\n",
      "Actual: NO Sobrevive                 101               64\n",
      "Actual: Sobrevive                     20               83\n"
     ]
    }
   ],
   "source": [
    "# Crear matriz de confusión\n",
    "cm = pd.DataFrame(confusion_matrix(y_test, y_pred_perceptron),['Actual: NO Sobrevive','Actual: Sobrevive'],['Pred: NO Sobrevive','Pred: Sobrevive'])\n",
    "\n",
    "# Imprimir matriz\n",
    "print(cm)"
   ]
  },
  {
   "cell_type": "markdown",
   "id": "a7fb9060",
   "metadata": {},
   "source": [
    "### 1.2.2) REGRESIÓN LOGÍSTICA\n",
    "Para el modelo de regresión logística el proceso es el mismo, tendremos que:\n",
    "- Entrenar los datos\n",
    "- Hacer la predicción y evaluación\n",
    "- Mostrar lo obtenido con una matriz de confusión"
   ]
  },
  {
   "cell_type": "markdown",
   "id": "28dd1aa7",
   "metadata": {},
   "source": [
    "**ENTRENAMIENTO**"
   ]
  },
  {
   "cell_type": "code",
   "execution_count": 92,
   "id": "382b6d7b",
   "metadata": {},
   "outputs": [
    {
     "data": {
      "text/html": [
       "<style>#sk-container-id-6 {color: black;background-color: white;}#sk-container-id-6 pre{padding: 0;}#sk-container-id-6 div.sk-toggleable {background-color: white;}#sk-container-id-6 label.sk-toggleable__label {cursor: pointer;display: block;width: 100%;margin-bottom: 0;padding: 0.3em;box-sizing: border-box;text-align: center;}#sk-container-id-6 label.sk-toggleable__label-arrow:before {content: \"▸\";float: left;margin-right: 0.25em;color: #696969;}#sk-container-id-6 label.sk-toggleable__label-arrow:hover:before {color: black;}#sk-container-id-6 div.sk-estimator:hover label.sk-toggleable__label-arrow:before {color: black;}#sk-container-id-6 div.sk-toggleable__content {max-height: 0;max-width: 0;overflow: hidden;text-align: left;background-color: #f0f8ff;}#sk-container-id-6 div.sk-toggleable__content pre {margin: 0.2em;color: black;border-radius: 0.25em;background-color: #f0f8ff;}#sk-container-id-6 input.sk-toggleable__control:checked~div.sk-toggleable__content {max-height: 200px;max-width: 100%;overflow: auto;}#sk-container-id-6 input.sk-toggleable__control:checked~label.sk-toggleable__label-arrow:before {content: \"▾\";}#sk-container-id-6 div.sk-estimator input.sk-toggleable__control:checked~label.sk-toggleable__label {background-color: #d4ebff;}#sk-container-id-6 div.sk-label input.sk-toggleable__control:checked~label.sk-toggleable__label {background-color: #d4ebff;}#sk-container-id-6 input.sk-hidden--visually {border: 0;clip: rect(1px 1px 1px 1px);clip: rect(1px, 1px, 1px, 1px);height: 1px;margin: -1px;overflow: hidden;padding: 0;position: absolute;width: 1px;}#sk-container-id-6 div.sk-estimator {font-family: monospace;background-color: #f0f8ff;border: 1px dotted black;border-radius: 0.25em;box-sizing: border-box;margin-bottom: 0.5em;}#sk-container-id-6 div.sk-estimator:hover {background-color: #d4ebff;}#sk-container-id-6 div.sk-parallel-item::after {content: \"\";width: 100%;border-bottom: 1px solid gray;flex-grow: 1;}#sk-container-id-6 div.sk-label:hover label.sk-toggleable__label {background-color: #d4ebff;}#sk-container-id-6 div.sk-serial::before {content: \"\";position: absolute;border-left: 1px solid gray;box-sizing: border-box;top: 0;bottom: 0;left: 50%;z-index: 0;}#sk-container-id-6 div.sk-serial {display: flex;flex-direction: column;align-items: center;background-color: white;padding-right: 0.2em;padding-left: 0.2em;position: relative;}#sk-container-id-6 div.sk-item {position: relative;z-index: 1;}#sk-container-id-6 div.sk-parallel {display: flex;align-items: stretch;justify-content: center;background-color: white;position: relative;}#sk-container-id-6 div.sk-item::before, #sk-container-id-6 div.sk-parallel-item::before {content: \"\";position: absolute;border-left: 1px solid gray;box-sizing: border-box;top: 0;bottom: 0;left: 50%;z-index: -1;}#sk-container-id-6 div.sk-parallel-item {display: flex;flex-direction: column;z-index: 1;position: relative;background-color: white;}#sk-container-id-6 div.sk-parallel-item:first-child::after {align-self: flex-end;width: 50%;}#sk-container-id-6 div.sk-parallel-item:last-child::after {align-self: flex-start;width: 50%;}#sk-container-id-6 div.sk-parallel-item:only-child::after {width: 0;}#sk-container-id-6 div.sk-dashed-wrapped {border: 1px dashed gray;margin: 0 0.4em 0.5em 0.4em;box-sizing: border-box;padding-bottom: 0.4em;background-color: white;}#sk-container-id-6 div.sk-label label {font-family: monospace;font-weight: bold;display: inline-block;line-height: 1.2em;}#sk-container-id-6 div.sk-label-container {text-align: center;}#sk-container-id-6 div.sk-container {/* jupyter's `normalize.less` sets `[hidden] { display: none; }` but bootstrap.min.css set `[hidden] { display: none !important; }` so we also need the `!important` here to be able to override the default hidden behavior on the sphinx rendered scikit-learn.org. See: https://github.com/scikit-learn/scikit-learn/issues/21755 */display: inline-block !important;position: relative;}#sk-container-id-6 div.sk-text-repr-fallback {display: none;}</style><div id=\"sk-container-id-6\" class=\"sk-top-container\"><div class=\"sk-text-repr-fallback\"><pre>LogisticRegression(max_iter=1000)</pre><b>In a Jupyter environment, please rerun this cell to show the HTML representation or trust the notebook. <br />On GitHub, the HTML representation is unable to render, please try loading this page with nbviewer.org.</b></div><div class=\"sk-container\" hidden><div class=\"sk-item\"><div class=\"sk-estimator sk-toggleable\"><input class=\"sk-toggleable__control sk-hidden--visually\" id=\"sk-estimator-id-6\" type=\"checkbox\" checked><label for=\"sk-estimator-id-6\" class=\"sk-toggleable__label sk-toggleable__label-arrow\">LogisticRegression</label><div class=\"sk-toggleable__content\"><pre>LogisticRegression(max_iter=1000)</pre></div></div></div></div></div>"
      ],
      "text/plain": [
       "LogisticRegression(max_iter=1000)"
      ]
     },
     "execution_count": 92,
     "metadata": {},
     "output_type": "execute_result"
    }
   ],
   "source": [
    "# Creación del modelo estableciendo un máximo de iteraciones\n",
    "logistic_regression = LogisticRegression(max_iter = 1000)\n",
    "\n",
    "# Proporcionar los datos de entrenamiento\n",
    "logistic_regression.fit(x_train,y_train)"
   ]
  },
  {
   "cell_type": "markdown",
   "id": "4fe554c3",
   "metadata": {},
   "source": [
    "**PREDICCIÓN Y EVALUACIÓN**"
   ]
  },
  {
   "cell_type": "markdown",
   "id": "ea17234e",
   "metadata": {},
   "source": [
    "El proceso es el mismo que el seguido para el perceptron: Se consigue la score, se redondea con la función **``round()``**, se almacena el resultado en ``accuracy_logistic_regression`` y se imprime multiplicándolo x100 para dar el resultado en forma de porcentaje"
   ]
  },
  {
   "cell_type": "code",
   "execution_count": 93,
   "id": "02848f0a",
   "metadata": {},
   "outputs": [
    {
     "name": "stdout",
     "output_type": "stream",
     "text": [
      "79.48 %\n"
     ]
    }
   ],
   "source": [
    "# Obtener la predicción\n",
    "y_pred_logistic_regression = logistic_regression.predict(x_test)\n",
    "# Obtener el score\n",
    "score = logistic_regression.score(x_test, y_test)\n",
    "# Redondeo a 2 cifras con el score obtenido\n",
    "accuracy_logistic_regression = round(score*100,2)\n",
    "# Mostrar la precisón obtenida a modo de porcentaje\n",
    "print(accuracy_logistic_regression,\"%\")"
   ]
  },
  {
   "cell_type": "markdown",
   "id": "741e09d5",
   "metadata": {},
   "source": [
    "Mostremos ahora la clasificación obtenida en una tabla que muestre la _precisión_, el _recall_, _f1-score_ y _support_"
   ]
  },
  {
   "cell_type": "code",
   "execution_count": 94,
   "id": "762e0964",
   "metadata": {},
   "outputs": [
    {
     "name": "stdout",
     "output_type": "stream",
     "text": [
      "              precision    recall  f1-score   support\n",
      "\n",
      "           0       0.84      0.83      0.83       165\n",
      "           1       0.73      0.74      0.73       103\n",
      "\n",
      "    accuracy                           0.79       268\n",
      "   macro avg       0.78      0.78      0.78       268\n",
      "weighted avg       0.80      0.79      0.79       268\n",
      "\n"
     ]
    }
   ],
   "source": [
    "print(classification_report(y_test, y_pred_logistic_regression))"
   ]
  },
  {
   "cell_type": "markdown",
   "id": "90634efb",
   "metadata": {},
   "source": [
    "**MATRIZ DE CONFUSIÓN**"
   ]
  },
  {
   "cell_type": "markdown",
   "id": "be14fb22",
   "metadata": {},
   "source": [
    "Nuevamente, se hará una matriz de confusión al igual que se hizo con el perceptrón"
   ]
  },
  {
   "cell_type": "code",
   "execution_count": 95,
   "id": "4395ba6d",
   "metadata": {},
   "outputs": [
    {
     "name": "stdout",
     "output_type": "stream",
     "text": [
      "                      Pred: NO Sobrevive  Pred: Sobrevive\n",
      "Actual: NO Sobrevive                 137               28\n",
      "Actual: Sobrevive                     27               76\n"
     ]
    }
   ],
   "source": [
    "# Creación de la matriz de confusión\n",
    "confusion_matrix_lr = pd.DataFrame(confusion_matrix(y_test, y_pred_logistic_regression), ['Actual: NO Sobrevive','Actual: Sobrevive'], ['Pred: NO Sobrevive','Pred: Sobrevive'])\n",
    "\n",
    "# Imprimir la matriz\n",
    "print(confusion_matrix_lr)"
   ]
  },
  {
   "cell_type": "markdown",
   "id": "e22c9f41",
   "metadata": {},
   "source": [
    "### 1.2.3) ÁRBOLES DE DECISIÓN\n",
    "El proceso vuelve a ser el mismo, tendremos que:\n",
    "- Entrenar los datos\n",
    "- Hacer la predicción y evaluación\n",
    "- Mostrar lo obtenido con una matriz de confusión"
   ]
  },
  {
   "cell_type": "markdown",
   "id": "edd00ccf",
   "metadata": {},
   "source": [
    "**ENTRENAMIENTO**"
   ]
  },
  {
   "cell_type": "code",
   "execution_count": 96,
   "id": "6fe12036",
   "metadata": {},
   "outputs": [
    {
     "data": {
      "text/html": [
       "<style>#sk-container-id-7 {color: black;background-color: white;}#sk-container-id-7 pre{padding: 0;}#sk-container-id-7 div.sk-toggleable {background-color: white;}#sk-container-id-7 label.sk-toggleable__label {cursor: pointer;display: block;width: 100%;margin-bottom: 0;padding: 0.3em;box-sizing: border-box;text-align: center;}#sk-container-id-7 label.sk-toggleable__label-arrow:before {content: \"▸\";float: left;margin-right: 0.25em;color: #696969;}#sk-container-id-7 label.sk-toggleable__label-arrow:hover:before {color: black;}#sk-container-id-7 div.sk-estimator:hover label.sk-toggleable__label-arrow:before {color: black;}#sk-container-id-7 div.sk-toggleable__content {max-height: 0;max-width: 0;overflow: hidden;text-align: left;background-color: #f0f8ff;}#sk-container-id-7 div.sk-toggleable__content pre {margin: 0.2em;color: black;border-radius: 0.25em;background-color: #f0f8ff;}#sk-container-id-7 input.sk-toggleable__control:checked~div.sk-toggleable__content {max-height: 200px;max-width: 100%;overflow: auto;}#sk-container-id-7 input.sk-toggleable__control:checked~label.sk-toggleable__label-arrow:before {content: \"▾\";}#sk-container-id-7 div.sk-estimator input.sk-toggleable__control:checked~label.sk-toggleable__label {background-color: #d4ebff;}#sk-container-id-7 div.sk-label input.sk-toggleable__control:checked~label.sk-toggleable__label {background-color: #d4ebff;}#sk-container-id-7 input.sk-hidden--visually {border: 0;clip: rect(1px 1px 1px 1px);clip: rect(1px, 1px, 1px, 1px);height: 1px;margin: -1px;overflow: hidden;padding: 0;position: absolute;width: 1px;}#sk-container-id-7 div.sk-estimator {font-family: monospace;background-color: #f0f8ff;border: 1px dotted black;border-radius: 0.25em;box-sizing: border-box;margin-bottom: 0.5em;}#sk-container-id-7 div.sk-estimator:hover {background-color: #d4ebff;}#sk-container-id-7 div.sk-parallel-item::after {content: \"\";width: 100%;border-bottom: 1px solid gray;flex-grow: 1;}#sk-container-id-7 div.sk-label:hover label.sk-toggleable__label {background-color: #d4ebff;}#sk-container-id-7 div.sk-serial::before {content: \"\";position: absolute;border-left: 1px solid gray;box-sizing: border-box;top: 0;bottom: 0;left: 50%;z-index: 0;}#sk-container-id-7 div.sk-serial {display: flex;flex-direction: column;align-items: center;background-color: white;padding-right: 0.2em;padding-left: 0.2em;position: relative;}#sk-container-id-7 div.sk-item {position: relative;z-index: 1;}#sk-container-id-7 div.sk-parallel {display: flex;align-items: stretch;justify-content: center;background-color: white;position: relative;}#sk-container-id-7 div.sk-item::before, #sk-container-id-7 div.sk-parallel-item::before {content: \"\";position: absolute;border-left: 1px solid gray;box-sizing: border-box;top: 0;bottom: 0;left: 50%;z-index: -1;}#sk-container-id-7 div.sk-parallel-item {display: flex;flex-direction: column;z-index: 1;position: relative;background-color: white;}#sk-container-id-7 div.sk-parallel-item:first-child::after {align-self: flex-end;width: 50%;}#sk-container-id-7 div.sk-parallel-item:last-child::after {align-self: flex-start;width: 50%;}#sk-container-id-7 div.sk-parallel-item:only-child::after {width: 0;}#sk-container-id-7 div.sk-dashed-wrapped {border: 1px dashed gray;margin: 0 0.4em 0.5em 0.4em;box-sizing: border-box;padding-bottom: 0.4em;background-color: white;}#sk-container-id-7 div.sk-label label {font-family: monospace;font-weight: bold;display: inline-block;line-height: 1.2em;}#sk-container-id-7 div.sk-label-container {text-align: center;}#sk-container-id-7 div.sk-container {/* jupyter's `normalize.less` sets `[hidden] { display: none; }` but bootstrap.min.css set `[hidden] { display: none !important; }` so we also need the `!important` here to be able to override the default hidden behavior on the sphinx rendered scikit-learn.org. See: https://github.com/scikit-learn/scikit-learn/issues/21755 */display: inline-block !important;position: relative;}#sk-container-id-7 div.sk-text-repr-fallback {display: none;}</style><div id=\"sk-container-id-7\" class=\"sk-top-container\"><div class=\"sk-text-repr-fallback\"><pre>DecisionTreeClassifier()</pre><b>In a Jupyter environment, please rerun this cell to show the HTML representation or trust the notebook. <br />On GitHub, the HTML representation is unable to render, please try loading this page with nbviewer.org.</b></div><div class=\"sk-container\" hidden><div class=\"sk-item\"><div class=\"sk-estimator sk-toggleable\"><input class=\"sk-toggleable__control sk-hidden--visually\" id=\"sk-estimator-id-7\" type=\"checkbox\" checked><label for=\"sk-estimator-id-7\" class=\"sk-toggleable__label sk-toggleable__label-arrow\">DecisionTreeClassifier</label><div class=\"sk-toggleable__content\"><pre>DecisionTreeClassifier()</pre></div></div></div></div></div>"
      ],
      "text/plain": [
       "DecisionTreeClassifier()"
      ]
     },
     "execution_count": 96,
     "metadata": {},
     "output_type": "execute_result"
    }
   ],
   "source": [
    "dt = DecisionTreeClassifier()\n",
    "dt.fit(x_train, y_train)"
   ]
  },
  {
   "cell_type": "markdown",
   "id": "cb76ad0e",
   "metadata": {},
   "source": [
    "**PREDICCIÓN Y EVALUACIÓN**"
   ]
  },
  {
   "cell_type": "code",
   "execution_count": 97,
   "id": "53682073",
   "metadata": {},
   "outputs": [
    {
     "name": "stdout",
     "output_type": "stream",
     "text": [
      "74.63 %\n"
     ]
    }
   ],
   "source": [
    "# Obtener la predicción\n",
    "y_pred_dectree = dt.predict(x_test)\n",
    "# Obtener el score\n",
    "score = dt.score(x_test, y_test) \n",
    "# Obtener accuracy redondeando el score a 2 cifras\n",
    "acc_dectree = round(score*100,2)\n",
    "# Imprimir accuracy\n",
    "print(acc_dectree,\"%\")"
   ]
  },
  {
   "cell_type": "markdown",
   "id": "854842af",
   "metadata": {},
   "source": [
    "Mostremos la clasificación obtenida en una tabla que muestre la _precisión_, el _recall_, _f1-score_ y _support_"
   ]
  },
  {
   "cell_type": "code",
   "execution_count": 98,
   "id": "bd14208b",
   "metadata": {
    "scrolled": true
   },
   "outputs": [
    {
     "name": "stdout",
     "output_type": "stream",
     "text": [
      "              precision    recall  f1-score   support\n",
      "\n",
      "           0       0.81      0.77      0.79       165\n",
      "           1       0.66      0.71      0.68       103\n",
      "\n",
      "    accuracy                           0.75       268\n",
      "   macro avg       0.73      0.74      0.74       268\n",
      "weighted avg       0.75      0.75      0.75       268\n",
      "\n"
     ]
    }
   ],
   "source": [
    "print(classification_report(y_test, y_pred_dectree))"
   ]
  },
  {
   "cell_type": "markdown",
   "id": "ac8b1705",
   "metadata": {},
   "source": [
    "**MATRIZ DE CONFUSIÓN**"
   ]
  },
  {
   "cell_type": "markdown",
   "id": "3ed3cb92",
   "metadata": {},
   "source": [
    "Nuevamente, se hará una matriz de confusión al igual que se hizo con los casos anteriores"
   ]
  },
  {
   "cell_type": "code",
   "execution_count": 99,
   "id": "1b5b8e0f",
   "metadata": {},
   "outputs": [
    {
     "name": "stdout",
     "output_type": "stream",
     "text": [
      "                     Pred:NO Sobrevive  Pred:Sobrevive\n",
      "Actual:NO Sobrevive                127              38\n",
      "Actual:Sobrevive                    30              73\n"
     ]
    }
   ],
   "source": [
    "# Creación de la matriz de confusión\n",
    "cm_dectree = pd.DataFrame(confusion_matrix(y_test, y_pred_dectree), ['Actual:NO Sobrevive','Actual:Sobrevive'],['Pred:NO Sobrevive','Pred:Sobrevive'])\n",
    "\n",
    "# Imprimir la matriz\n",
    "print(cm_dectree)"
   ]
  },
  {
   "cell_type": "markdown",
   "id": "d2cd00a6",
   "metadata": {},
   "source": [
    "### 1.2.4) RANDOM FOREST"
   ]
  },
  {
   "cell_type": "markdown",
   "id": "03a5a26e",
   "metadata": {},
   "source": [
    "**ENTRENAMIENTO**"
   ]
  },
  {
   "cell_type": "code",
   "execution_count": 100,
   "id": "3758a18f",
   "metadata": {},
   "outputs": [
    {
     "data": {
      "text/html": [
       "<style>#sk-container-id-8 {color: black;background-color: white;}#sk-container-id-8 pre{padding: 0;}#sk-container-id-8 div.sk-toggleable {background-color: white;}#sk-container-id-8 label.sk-toggleable__label {cursor: pointer;display: block;width: 100%;margin-bottom: 0;padding: 0.3em;box-sizing: border-box;text-align: center;}#sk-container-id-8 label.sk-toggleable__label-arrow:before {content: \"▸\";float: left;margin-right: 0.25em;color: #696969;}#sk-container-id-8 label.sk-toggleable__label-arrow:hover:before {color: black;}#sk-container-id-8 div.sk-estimator:hover label.sk-toggleable__label-arrow:before {color: black;}#sk-container-id-8 div.sk-toggleable__content {max-height: 0;max-width: 0;overflow: hidden;text-align: left;background-color: #f0f8ff;}#sk-container-id-8 div.sk-toggleable__content pre {margin: 0.2em;color: black;border-radius: 0.25em;background-color: #f0f8ff;}#sk-container-id-8 input.sk-toggleable__control:checked~div.sk-toggleable__content {max-height: 200px;max-width: 100%;overflow: auto;}#sk-container-id-8 input.sk-toggleable__control:checked~label.sk-toggleable__label-arrow:before {content: \"▾\";}#sk-container-id-8 div.sk-estimator input.sk-toggleable__control:checked~label.sk-toggleable__label {background-color: #d4ebff;}#sk-container-id-8 div.sk-label input.sk-toggleable__control:checked~label.sk-toggleable__label {background-color: #d4ebff;}#sk-container-id-8 input.sk-hidden--visually {border: 0;clip: rect(1px 1px 1px 1px);clip: rect(1px, 1px, 1px, 1px);height: 1px;margin: -1px;overflow: hidden;padding: 0;position: absolute;width: 1px;}#sk-container-id-8 div.sk-estimator {font-family: monospace;background-color: #f0f8ff;border: 1px dotted black;border-radius: 0.25em;box-sizing: border-box;margin-bottom: 0.5em;}#sk-container-id-8 div.sk-estimator:hover {background-color: #d4ebff;}#sk-container-id-8 div.sk-parallel-item::after {content: \"\";width: 100%;border-bottom: 1px solid gray;flex-grow: 1;}#sk-container-id-8 div.sk-label:hover label.sk-toggleable__label {background-color: #d4ebff;}#sk-container-id-8 div.sk-serial::before {content: \"\";position: absolute;border-left: 1px solid gray;box-sizing: border-box;top: 0;bottom: 0;left: 50%;z-index: 0;}#sk-container-id-8 div.sk-serial {display: flex;flex-direction: column;align-items: center;background-color: white;padding-right: 0.2em;padding-left: 0.2em;position: relative;}#sk-container-id-8 div.sk-item {position: relative;z-index: 1;}#sk-container-id-8 div.sk-parallel {display: flex;align-items: stretch;justify-content: center;background-color: white;position: relative;}#sk-container-id-8 div.sk-item::before, #sk-container-id-8 div.sk-parallel-item::before {content: \"\";position: absolute;border-left: 1px solid gray;box-sizing: border-box;top: 0;bottom: 0;left: 50%;z-index: -1;}#sk-container-id-8 div.sk-parallel-item {display: flex;flex-direction: column;z-index: 1;position: relative;background-color: white;}#sk-container-id-8 div.sk-parallel-item:first-child::after {align-self: flex-end;width: 50%;}#sk-container-id-8 div.sk-parallel-item:last-child::after {align-self: flex-start;width: 50%;}#sk-container-id-8 div.sk-parallel-item:only-child::after {width: 0;}#sk-container-id-8 div.sk-dashed-wrapped {border: 1px dashed gray;margin: 0 0.4em 0.5em 0.4em;box-sizing: border-box;padding-bottom: 0.4em;background-color: white;}#sk-container-id-8 div.sk-label label {font-family: monospace;font-weight: bold;display: inline-block;line-height: 1.2em;}#sk-container-id-8 div.sk-label-container {text-align: center;}#sk-container-id-8 div.sk-container {/* jupyter's `normalize.less` sets `[hidden] { display: none; }` but bootstrap.min.css set `[hidden] { display: none !important; }` so we also need the `!important` here to be able to override the default hidden behavior on the sphinx rendered scikit-learn.org. See: https://github.com/scikit-learn/scikit-learn/issues/21755 */display: inline-block !important;position: relative;}#sk-container-id-8 div.sk-text-repr-fallback {display: none;}</style><div id=\"sk-container-id-8\" class=\"sk-top-container\"><div class=\"sk-text-repr-fallback\"><pre>RandomForestClassifier()</pre><b>In a Jupyter environment, please rerun this cell to show the HTML representation or trust the notebook. <br />On GitHub, the HTML representation is unable to render, please try loading this page with nbviewer.org.</b></div><div class=\"sk-container\" hidden><div class=\"sk-item\"><div class=\"sk-estimator sk-toggleable\"><input class=\"sk-toggleable__control sk-hidden--visually\" id=\"sk-estimator-id-8\" type=\"checkbox\" checked><label for=\"sk-estimator-id-8\" class=\"sk-toggleable__label sk-toggleable__label-arrow\">RandomForestClassifier</label><div class=\"sk-toggleable__content\"><pre>RandomForestClassifier()</pre></div></div></div></div></div>"
      ],
      "text/plain": [
       "RandomForestClassifier()"
      ]
     },
     "execution_count": 100,
     "metadata": {},
     "output_type": "execute_result"
    }
   ],
   "source": [
    "# Se crea el random forest\n",
    "rf = RandomForestClassifier(n_estimators=100)\n",
    "# Se entrena los datos\n",
    "rf.fit(x_train,y_train)"
   ]
  },
  {
   "cell_type": "markdown",
   "id": "98f3e003",
   "metadata": {},
   "source": [
    "**PREDICCIÓN Y EVALUACIÓN**"
   ]
  },
  {
   "cell_type": "code",
   "execution_count": 101,
   "id": "7442d234",
   "metadata": {},
   "outputs": [
    {
     "name": "stdout",
     "output_type": "stream",
     "text": [
      "81.72 %\n"
     ]
    }
   ],
   "source": [
    "# Obtener la predicción\n",
    "y_pred_randomforest = rf.predict(x_test)\n",
    "# Obtenemos el score\n",
    "score = rf.score(x_test, y_test)\n",
    "# Usamos el score para sacar la precisión en porcentaje\n",
    "accuracy_rf = round(score*100,2)   # Se redondea a 2 cifras\n",
    "# Se muestra la precisión\n",
    "print(accuracy_rf,\"%\")"
   ]
  },
  {
   "cell_type": "markdown",
   "id": "7ffbcb26",
   "metadata": {},
   "source": [
    "Una vez más, mostramos en una tabla la _precisión_, el _recall_, _f1-score_ y _support_:"
   ]
  },
  {
   "cell_type": "code",
   "execution_count": 102,
   "id": "443924a9",
   "metadata": {},
   "outputs": [
    {
     "name": "stdout",
     "output_type": "stream",
     "text": [
      "              precision    recall  f1-score   support\n",
      "\n",
      "           0       0.85      0.86      0.85       165\n",
      "           1       0.77      0.75      0.76       103\n",
      "\n",
      "    accuracy                           0.82       268\n",
      "   macro avg       0.81      0.80      0.81       268\n",
      "weighted avg       0.82      0.82      0.82       268\n",
      "\n"
     ]
    }
   ],
   "source": [
    "print(classification_report(y_test, y_pred_randomforest))"
   ]
  },
  {
   "cell_type": "markdown",
   "id": "5811e6f6",
   "metadata": {},
   "source": [
    "**MATRIZ DE CONFUSIÓN**"
   ]
  },
  {
   "cell_type": "markdown",
   "id": "2e9ec0a3",
   "metadata": {},
   "source": [
    "Por última vez, crearemos una matriz de confusión para obtener visualización del desempeño del algoritmo:"
   ]
  },
  {
   "cell_type": "code",
   "execution_count": 103,
   "id": "5af23cac",
   "metadata": {},
   "outputs": [
    {
     "name": "stdout",
     "output_type": "stream",
     "text": [
      "                      Pred: NO Sobrevive  Pred: Sobrevive\n",
      "Actual: NO Sobrevive                 142               23\n",
      "Actual: Sobrevive                     26               77\n"
     ]
    }
   ],
   "source": [
    "# Creación de la matriz de confusión\n",
    "cm_randomforest = pd.DataFrame(confusion_matrix(y_test, y_pred_randomforest), ['Actual: NO Sobrevive', 'Actual: Sobrevive'], ['Pred: NO Sobrevive', 'Pred: Sobrevive'])\n",
    "# Se muestra la matriz\n",
    "print(cm_randomforest)"
   ]
  },
  {
   "cell_type": "markdown",
   "id": "776e3ea8",
   "metadata": {},
   "source": [
    "### 1.2.5) EVALUACIÓN DE LOS MODELOS PREDICTIVOS"
   ]
  },
  {
   "cell_type": "markdown",
   "id": "50765724",
   "metadata": {},
   "source": [
    "Todos los modelos predictivos que se han implementado han hecho un cálculo de precisión (_accuracy_) posterior al entrenamiento de los datos. Dado que los **modelos son diferentes**, los entrenamientos, reglas de aprendizaje o algoritmos también lo son, provocanado que el cálculo de **la precisión sea también diferente** en cada modelo.<br><br>\n",
    "Para hacer una evaluación de los modelos predictivos, podemos comparar el valor que cada uno ha obtenido para la precisión."
   ]
  },
  {
   "cell_type": "markdown",
   "id": "86008c6d",
   "metadata": {},
   "source": [
    "Gracias a la librería ``pandas``, podemos crear una tabla que ordene la precisión obtenida de modelos predictivos y los muestre haciendo un \"ranking\"."
   ]
  },
  {
   "cell_type": "code",
   "execution_count": 104,
   "id": "5a57dbe2",
   "metadata": {},
   "outputs": [],
   "source": [
    "# Se crea la tabla (array bidimensional)\n",
    "modelos = pd.DataFrame({\n",
    "    'Modelo Predictivo': ['Perceptron','Regresión Logística','Árboles de decisión','Random Forest'],\n",
    "    'Precisión': [accuracy_perceptron, accuracy_logistic_regression, acc_dectree, accuracy_rf]\n",
    "})"
   ]
  },
  {
   "cell_type": "markdown",
   "id": "066dc4c3",
   "metadata": {},
   "source": [
    "Ahora que hemos creado la tabla, mediante una llamada a la función **``sort_values()``** podemos ordenar la tabla siguiendo un criterio, que en nuestro caso será ascendente:"
   ]
  },
  {
   "cell_type": "code",
   "execution_count": 105,
   "id": "2420fdcb",
   "metadata": {},
   "outputs": [
    {
     "data": {
      "text/html": [
       "<div>\n",
       "<style scoped>\n",
       "    .dataframe tbody tr th:only-of-type {\n",
       "        vertical-align: middle;\n",
       "    }\n",
       "\n",
       "    .dataframe tbody tr th {\n",
       "        vertical-align: top;\n",
       "    }\n",
       "\n",
       "    .dataframe thead th {\n",
       "        text-align: right;\n",
       "    }\n",
       "</style>\n",
       "<table border=\"1\" class=\"dataframe\">\n",
       "  <thead>\n",
       "    <tr style=\"text-align: right;\">\n",
       "      <th></th>\n",
       "      <th>Modelo Predictivo</th>\n",
       "      <th>Precisión</th>\n",
       "    </tr>\n",
       "  </thead>\n",
       "  <tbody>\n",
       "    <tr>\n",
       "      <th>0</th>\n",
       "      <td>Perceptron</td>\n",
       "      <td>68.66</td>\n",
       "    </tr>\n",
       "    <tr>\n",
       "      <th>2</th>\n",
       "      <td>Árboles de decisión</td>\n",
       "      <td>74.63</td>\n",
       "    </tr>\n",
       "    <tr>\n",
       "      <th>1</th>\n",
       "      <td>Regresión Logística</td>\n",
       "      <td>79.48</td>\n",
       "    </tr>\n",
       "    <tr>\n",
       "      <th>3</th>\n",
       "      <td>Random Forest</td>\n",
       "      <td>81.72</td>\n",
       "    </tr>\n",
       "  </tbody>\n",
       "</table>\n",
       "</div>"
      ],
      "text/plain": [
       "     Modelo Predictivo  Precisión\n",
       "0           Perceptron      68.66\n",
       "2  Árboles de decisión      74.63\n",
       "1  Regresión Logística      79.48\n",
       "3        Random Forest      81.72"
      ]
     },
     "execution_count": 105,
     "metadata": {},
     "output_type": "execute_result"
    }
   ],
   "source": [
    "modelos.sort_values(by='Precisión', ascending=True)"
   ]
  },
  {
   "cell_type": "markdown",
   "id": "726f1307",
   "metadata": {},
   "source": [
    "Se puede ver como el modelo con un valor mayor para la _precisión_ es el **``Random Forest``**, mientras que el **``Perceptron``** es el que menos precisión ha obtenido"
   ]
  },
  {
   "cell_type": "markdown",
   "id": "ef72709a",
   "metadata": {},
   "source": [
    "# 2) Análisis de importancia de las Características\n",
    "\n",
    "Acabada la implementación de los cuatro modelos predictivos y su respectivo análisis, **es importante también hacer un análisis de la importancia de sus características**. El análisis de características de un modelo (o **``FEATURE IMPORTANCE``**) se refiere a las técnicas que se usan para calcular u obtener una puntuación para todas las características de entrada de un modelo dado.\n",
    "<br>\n",
    "Estas puntuaciones que obtengamos simplemente representarán la \"importancia\" de cada una de estas características."
   ]
  },
  {
   "cell_type": "markdown",
   "id": "afc0e7b4",
   "metadata": {},
   "source": [
    "Veamos de qué forma haremos el análisis de cada uno de los modelos:"
   ]
  },
  {
   "cell_type": "code",
   "execution_count": 106,
   "id": "c658c7a8",
   "metadata": {},
   "outputs": [],
   "source": [
    "scaler = preprocessing.MinMaxScaler()\n",
    "\n",
    "y = model[\"Survived\"]\n",
    "x = model.drop(\"Survived\", axis=1)\n",
    "\n",
    "# Escalam les dades en funció de x\n",
    "x = scaler.fit_transform(x)\n",
    "\n",
    "x_train, x_test, y_train, y_test = train_test_split(x, y, test_size=0.3, stratify=y , random_state=2)"
   ]
  },
  {
   "cell_type": "markdown",
   "id": "780ded72",
   "metadata": {},
   "source": [
    "## 2.1) Modelo de Perceptron"
   ]
  },
  {
   "cell_type": "markdown",
   "id": "57aaebbd",
   "metadata": {},
   "source": [
    "Para comparar los atributos más importantes en los modelos Perceptron (y Regresión Logística), utilizaremos el método para examinar los coeficientes que nos brinda la función ``coef_``. Esta función se encarga de almacenar los coeficientes una vez que el modelo ya ha sido previamente entrenado. Para facilitar la representación gráfica, tomaremos el valor absoluto de los valores de importancia. <br> "
   ]
  },
  {
   "cell_type": "code",
   "execution_count": 107,
   "id": "82150fbf",
   "metadata": {},
   "outputs": [
    {
     "data": {
      "text/html": [
       "<div>\n",
       "<style scoped>\n",
       "    .dataframe tbody tr th:only-of-type {\n",
       "        vertical-align: middle;\n",
       "    }\n",
       "\n",
       "    .dataframe tbody tr th {\n",
       "        vertical-align: top;\n",
       "    }\n",
       "\n",
       "    .dataframe thead th {\n",
       "        text-align: right;\n",
       "    }\n",
       "</style>\n",
       "<table border=\"1\" class=\"dataframe\">\n",
       "  <thead>\n",
       "    <tr style=\"text-align: right;\">\n",
       "      <th></th>\n",
       "      <th>Atributo</th>\n",
       "      <th>Importance</th>\n",
       "    </tr>\n",
       "  </thead>\n",
       "  <tbody>\n",
       "    <tr>\n",
       "      <th>1</th>\n",
       "      <td>Age</td>\n",
       "      <td>3.99</td>\n",
       "    </tr>\n",
       "    <tr>\n",
       "      <th>3</th>\n",
       "      <td>Parch</td>\n",
       "      <td>3.00</td>\n",
       "    </tr>\n",
       "    <tr>\n",
       "      <th>2</th>\n",
       "      <td>SibSp</td>\n",
       "      <td>2.88</td>\n",
       "    </tr>\n",
       "    <tr>\n",
       "      <th>0</th>\n",
       "      <td>Pclass</td>\n",
       "      <td>2.50</td>\n",
       "    </tr>\n",
       "    <tr>\n",
       "      <th>4</th>\n",
       "      <td>Fare</td>\n",
       "      <td>1.25</td>\n",
       "    </tr>\n",
       "    <tr>\n",
       "      <th>5</th>\n",
       "      <td>Sex_male</td>\n",
       "      <td>1.00</td>\n",
       "    </tr>\n",
       "    <tr>\n",
       "      <th>6</th>\n",
       "      <td>Embarked_Q</td>\n",
       "      <td>1.00</td>\n",
       "    </tr>\n",
       "    <tr>\n",
       "      <th>7</th>\n",
       "      <td>Embarked_S</td>\n",
       "      <td>1.00</td>\n",
       "    </tr>\n",
       "  </tbody>\n",
       "</table>\n",
       "</div>"
      ],
      "text/plain": [
       "     Atributo  Importance\n",
       "1         Age        3.99\n",
       "3       Parch        3.00\n",
       "2       SibSp        2.88\n",
       "0      Pclass        2.50\n",
       "4        Fare        1.25\n",
       "5    Sex_male        1.00\n",
       "6  Embarked_Q        1.00\n",
       "7  Embarked_S        1.00"
      ]
     },
     "execution_count": 107,
     "metadata": {},
     "output_type": "execute_result"
    }
   ],
   "source": [
    "#Obtención de los coeficientes del modelo entrenado\n",
    "coeficiente_p = perceptron.coef_[0]\n",
    "\n",
    "#Conversión de la matriz de entrenamiento a un DataFrame para poder tratar con él en el resto de modelos\n",
    "x_train = pd.DataFrame(x_train, columns=model.drop(\"Survived\", axis=1).columns)\n",
    "\n",
    "#Creación de un nuevo DataFrame usando los nombres de las columnas de los datos \n",
    "#de entrenamiento como los nombres de las columnas de \"Atributo\" e \"Importance\"\n",
    "#y se asigna a una variable \"importancias_p\".\n",
    "#Los valores de la columna \"Importance\" se obtienen cogiendo el valor absoluto \n",
    "#de los coeficientes del Perceptron\n",
    "importancias_p = pd.DataFrame(data = {'Atributo':x_train.columns, \n",
    "                                      'Importance':abs(coeficiente_p)})\n",
    "\n",
    "#Ordenamos el DataFrame por la columna \"Importance\" en orden descendente\n",
    "importancias_p = importancias_p.sort_values(by = 'Importance',\n",
    "                                            ascending = False)\n",
    "\n",
    "#Imprimimos el DataFrame\n",
    "importancias_p"
   ]
  },
  {
   "cell_type": "markdown",
   "id": "015d637d",
   "metadata": {},
   "source": [
    "Para entender mejor la tabla anterior, vamos a crear un histograma para la **feature importance** del perceptron, donde se muestre de una forma más clara el valor obtenido de la _Importance_ para cada atributo"
   ]
  },
  {
   "cell_type": "code",
   "execution_count": 108,
   "id": "4054c41d",
   "metadata": {},
   "outputs": [
    {
     "data": {
      "image/png": "[encoded data removed]",
      "text/plain": [
       "<Figure size 640x480 with 1 Axes>"
      ]
     },
     "metadata": {},
     "output_type": "display_data"
    }
   ],
   "source": [
    "#Procedemos a la representación gráfica del DataFrame anterior usando la funcion `plt.bar()`\n",
    "plt.bar(importancias_p['Atributo'],importancias_p['Importance'], color='#FFA500')\n",
    "\n",
    "#Establecemos el titulo de la gráfica con su tamaño\n",
    "plt.title('Perceptron FI', size = 22)\n",
    "\n",
    "#Usamos la función \"plt.xticks()\" para evitar la superposición de letras en el eje x\n",
    "plt.xticks(rotation = 'vertical')\n",
    "\n",
    "#Mostramos la gráfica por pantalla\n",
    "plt.show()"
   ]
  },
  {
   "cell_type": "markdown",
   "id": "e247b161",
   "metadata": {},
   "source": [
    "### ANÁLISIS DE LO OBTENIDO:\n",
    "Como se puede ver, ordenado de forma descendiente, se muestran las importancias de cada característica que tienen una mayor influyencia en la capacidad de sobrevivir de un pasajero al incidente. En este caso, destacan sobre todo las características de la Edad ``Age`` y la clase ``Pclass`` del pasajero.<br><br>\n",
    "Esto muestra que pasajeros de cierta edad, posiblemente, tendrían más probabilidad de sobrevivir que pasajeros de una edad menor como ancianos. La clase también tiene una relevancia bastante elevada ya que la clase de los pasajeros, determinaba en muchos casos, si estos tenian cabina o no, o muy probablemente, las preferencias de evacuación para las clases con más poder económico primero.<br><br>\n",
    "Sin embargo, características como la ciudad en la que el pasajero embarcó no tienen tanta relevancia."
   ]
  },
  {
   "cell_type": "markdown",
   "id": "354f176b",
   "metadata": {},
   "source": [
    "## 2.2) Regresión logística\n",
    "\n",
    "Tal y como hemos comentado antes, en el modelo de regresión logística procederemos de la misma forma que en el Perceptron, haciendo uso de la función **``coef_``**"
   ]
  },
  {
   "cell_type": "code",
   "execution_count": 109,
   "id": "52eca43f",
   "metadata": {},
   "outputs": [
    {
     "data": {
      "text/html": [
       "<div>\n",
       "<style scoped>\n",
       "    .dataframe tbody tr th:only-of-type {\n",
       "        vertical-align: middle;\n",
       "    }\n",
       "\n",
       "    .dataframe tbody tr th {\n",
       "        vertical-align: top;\n",
       "    }\n",
       "\n",
       "    .dataframe thead th {\n",
       "        text-align: right;\n",
       "    }\n",
       "</style>\n",
       "<table border=\"1\" class=\"dataframe\">\n",
       "  <thead>\n",
       "    <tr style=\"text-align: right;\">\n",
       "      <th></th>\n",
       "      <th>Atributo</th>\n",
       "      <th>Importance</th>\n",
       "    </tr>\n",
       "  </thead>\n",
       "  <tbody>\n",
       "    <tr>\n",
       "      <th>5</th>\n",
       "      <td>Sex_male</td>\n",
       "      <td>2.59</td>\n",
       "    </tr>\n",
       "    <tr>\n",
       "      <th>1</th>\n",
       "      <td>Age</td>\n",
       "      <td>2.02</td>\n",
       "    </tr>\n",
       "    <tr>\n",
       "      <th>0</th>\n",
       "      <td>Pclass</td>\n",
       "      <td>1.94</td>\n",
       "    </tr>\n",
       "    <tr>\n",
       "      <th>2</th>\n",
       "      <td>SibSp</td>\n",
       "      <td>0.88</td>\n",
       "    </tr>\n",
       "    <tr>\n",
       "      <th>4</th>\n",
       "      <td>Fare</td>\n",
       "      <td>0.60</td>\n",
       "    </tr>\n",
       "    <tr>\n",
       "      <th>3</th>\n",
       "      <td>Parch</td>\n",
       "      <td>0.42</td>\n",
       "    </tr>\n",
       "    <tr>\n",
       "      <th>7</th>\n",
       "      <td>Embarked_S</td>\n",
       "      <td>0.29</td>\n",
       "    </tr>\n",
       "    <tr>\n",
       "      <th>6</th>\n",
       "      <td>Embarked_Q</td>\n",
       "      <td>0.00</td>\n",
       "    </tr>\n",
       "  </tbody>\n",
       "</table>\n",
       "</div>"
      ],
      "text/plain": [
       "     Atributo  Importance\n",
       "5    Sex_male        2.59\n",
       "1         Age        2.02\n",
       "0      Pclass        1.94\n",
       "2       SibSp        0.88\n",
       "4        Fare        0.60\n",
       "3       Parch        0.42\n",
       "7  Embarked_S        0.29\n",
       "6  Embarked_Q        0.00"
      ]
     },
     "execution_count": 109,
     "metadata": {},
     "output_type": "execute_result"
    }
   ],
   "source": [
    "#Obtención de los coeficientes del modelo entrenado\n",
    "coeficiente_LR = logistic_regression.coef_[0]\n",
    "\n",
    "#Creación de un nuevo DataFrame de la misma forma que en el perceptron\n",
    "importancias_LR = pd.DataFrame(data = {'Atributo':x_train.columns, \n",
    "                                      'Importance':abs(coeficiente_LR)})\n",
    "\n",
    "#Ordenamos el DataFrame por la columna \"Importance\" en orden descendente\n",
    "importancias_LR = importancias_LR.sort_values(by = 'Importance',\n",
    "                                            ascending = False)\n",
    "\n",
    "#Imprimimos el DataFrame\n",
    "importancias_LR"
   ]
  },
  {
   "cell_type": "markdown",
   "id": "3cecc3ea",
   "metadata": {},
   "source": [
    "Al igual que para el perceptron, creamos un histograma para la **feature importance**."
   ]
  },
  {
   "cell_type": "code",
   "execution_count": 110,
   "id": "21e3d2b0",
   "metadata": {},
   "outputs": [
    {
     "data": {
      "image/png": "[encoded data removed]",
      "text/plain": [
       "<Figure size 640x480 with 1 Axes>"
      ]
     },
     "metadata": {},
     "output_type": "display_data"
    }
   ],
   "source": [
    "#Procedemos a la representación gráfica del DataFrame anterior usando la funcion `plt.bar()`\n",
    "plt.bar(x = importancias_LR['Atributo'], height = importancias_LR['Importance'], color='#AA5000')\n",
    "\n",
    "#Establecemos el titulo de la gráfica con su tamaño\n",
    "plt.title('Logistic Regression FI', size = 22)\n",
    "\n",
    "#Usamos la función \"plt.xticks()\" para evitar la superposición de letras en el eje x\n",
    "plt.xticks(rotation = 'vertical')\n",
    "\n",
    "#Mostramos la gráfica por pantalla\n",
    "plt.show()"
   ]
  },
  {
   "cell_type": "markdown",
   "id": "8f5af0e2",
   "metadata": {},
   "source": [
    "### ANÁLISIS DE LO OBTENIDO\n",
    "En este caso, las variables que influirían positivamente serían _Sex male_, _Age_ y _Pclass_, que destacan notablemente por encima del resto; mientras que nuevamente, las ciudades donde el pasajero embarcó (_Embarked S_ o _Embarked Q_ junto con _PassengerId_ son las variables que influirían negativamente).<br><br>\n",
    "Esto nos indica que los hombres, y gente de cierta edad serían los que tendrían menos posibilidad de sobrevivir."
   ]
  },
  {
   "cell_type": "markdown",
   "id": "50e20f91",
   "metadata": {},
   "source": [
    "## 2.3) Árboles de Decisión\n",
    "\n",
    "Para los modelos basados en árbol (Árboles de decisión y Random Forest), a diferencia de los dos anteriores, ya no usaremos la función ``coef_``, usaremos ``feature_importances_``. Esto se hace para determinar los atributos más importantes de estos modelos."
   ]
  },
  {
   "cell_type": "markdown",
   "id": "58f9979a",
   "metadata": {},
   "source": [
    "El proceso, sin embargo, es el mismo. Tendremos que Almacenar el coeficiente mediante una llamada a ``feature_importances_``, crear un dataframe con las columnas _Atributo_ e _Importance_, ordenar en función de estas importancias obtenidas y mostrar la tabla"
   ]
  },
  {
   "cell_type": "code",
   "execution_count": 111,
   "id": "5d99b58b",
   "metadata": {},
   "outputs": [
    {
     "data": {
      "text/html": [
       "<div>\n",
       "<style scoped>\n",
       "    .dataframe tbody tr th:only-of-type {\n",
       "        vertical-align: middle;\n",
       "    }\n",
       "\n",
       "    .dataframe tbody tr th {\n",
       "        vertical-align: top;\n",
       "    }\n",
       "\n",
       "    .dataframe thead th {\n",
       "        text-align: right;\n",
       "    }\n",
       "</style>\n",
       "<table border=\"1\" class=\"dataframe\">\n",
       "  <thead>\n",
       "    <tr style=\"text-align: right;\">\n",
       "      <th></th>\n",
       "      <th>Atributo</th>\n",
       "      <th>Importance</th>\n",
       "    </tr>\n",
       "  </thead>\n",
       "  <tbody>\n",
       "    <tr>\n",
       "      <th>5</th>\n",
       "      <td>Sex_male</td>\n",
       "      <td>0.32</td>\n",
       "    </tr>\n",
       "    <tr>\n",
       "      <th>1</th>\n",
       "      <td>Age</td>\n",
       "      <td>0.25</td>\n",
       "    </tr>\n",
       "    <tr>\n",
       "      <th>4</th>\n",
       "      <td>Fare</td>\n",
       "      <td>0.23</td>\n",
       "    </tr>\n",
       "    <tr>\n",
       "      <th>0</th>\n",
       "      <td>Pclass</td>\n",
       "      <td>0.09</td>\n",
       "    </tr>\n",
       "    <tr>\n",
       "      <th>2</th>\n",
       "      <td>SibSp</td>\n",
       "      <td>0.05</td>\n",
       "    </tr>\n",
       "    <tr>\n",
       "      <th>3</th>\n",
       "      <td>Parch</td>\n",
       "      <td>0.03</td>\n",
       "    </tr>\n",
       "    <tr>\n",
       "      <th>7</th>\n",
       "      <td>Embarked_S</td>\n",
       "      <td>0.02</td>\n",
       "    </tr>\n",
       "    <tr>\n",
       "      <th>6</th>\n",
       "      <td>Embarked_Q</td>\n",
       "      <td>0.01</td>\n",
       "    </tr>\n",
       "  </tbody>\n",
       "</table>\n",
       "</div>"
      ],
      "text/plain": [
       "     Atributo  Importance\n",
       "5    Sex_male        0.32\n",
       "1         Age        0.25\n",
       "4        Fare        0.23\n",
       "0      Pclass        0.09\n",
       "2       SibSp        0.05\n",
       "3       Parch        0.03\n",
       "7  Embarked_S        0.02\n",
       "6  Embarked_Q        0.01"
      ]
     },
     "execution_count": 111,
     "metadata": {},
     "output_type": "execute_result"
    }
   ],
   "source": [
    "#Asignamos a la variable \"coeficiente_DT\" las importancias de este modelo mediante la función comentada previamente\n",
    "coeficiente_DT = dt.feature_importances_\n",
    "\n",
    "#Creamos el DataFrame de la misma forma que hemos procedido en los dos modelos anteriores\n",
    "importancias_DT = pd.DataFrame(data={'Atributo': x_train.columns,'Importance': abs(coeficiente_DT)})\n",
    "\n",
    "#Ordenamos el DataFrame por la columna \"Importance\" en orden descendente\n",
    "importancias_DT = importancias_DT.sort_values(by='Importance', ascending=False)\n",
    "\n",
    "#Imprimimos el DataFrame\n",
    "importancias_DT"
   ]
  },
  {
   "cell_type": "markdown",
   "id": "65d3d28f",
   "metadata": {},
   "source": [
    "Al igual que en los dos modelos anteriores, también usaremos un histograma para ver de forma más visual la importancia obtenida para cada atributo"
   ]
  },
  {
   "cell_type": "code",
   "execution_count": 112,
   "id": "9f22a2d2",
   "metadata": {},
   "outputs": [
    {
     "data": {
      "image/png": "[encoded data removed]",
      "text/plain": [
       "<Figure size 640x480 with 1 Axes>"
      ]
     },
     "metadata": {},
     "output_type": "display_data"
    }
   ],
   "source": [
    "#Procedemos a la representación gráfica del DataFrame anterior usando la funcion \"plt.bar()\"\n",
    "plt.bar(x = importancias_DT['Atributo'], height = importancias_DT['Importance'], color='#008080')\n",
    "\n",
    "#Establecemos el titulo de la gráfica con su tamaño\n",
    "plt.title('Decission Tree FI', size = 22)\n",
    "\n",
    "#Usamos la función \"plt.xticks()\" para evitar la superposición de letras en el eje x\n",
    "plt.xticks(rotation = 'vertical')\n",
    "\n",
    "#Mostramos la gráfica por pantalla\n",
    "plt.show()"
   ]
  },
  {
   "cell_type": "markdown",
   "id": "954a57ec",
   "metadata": {},
   "source": [
    "### ANÁLISIS DE LO OBTENIDO\n",
    "En este caso, la variable _Sex male_ es la que influiría positivamente en las psoibilidades de sobrevivir, indicando que los hombre tenían una gran probabilidad de ello. Sin embargo, la ciudad en la que los pasajeros embarcaron no tiene una gran influencia en la superviviencia, al igual que _Parch_."
   ]
  },
  {
   "cell_type": "markdown",
   "id": "21896d30",
   "metadata": {},
   "source": [
    "## 2.4) Random Forest\n",
    "\n",
    "Para acabar con este último modelo, como está basado en árbol, procederemos de la misma forma que en el modelo anterior para la creación del nuevo DataFrame, haciendo uso de la técnica Feature Importance."
   ]
  },
  {
   "cell_type": "code",
   "execution_count": 113,
   "id": "714b7e0b",
   "metadata": {},
   "outputs": [
    {
     "data": {
      "text/html": [
       "<div>\n",
       "<style scoped>\n",
       "    .dataframe tbody tr th:only-of-type {\n",
       "        vertical-align: middle;\n",
       "    }\n",
       "\n",
       "    .dataframe tbody tr th {\n",
       "        vertical-align: top;\n",
       "    }\n",
       "\n",
       "    .dataframe thead th {\n",
       "        text-align: right;\n",
       "    }\n",
       "</style>\n",
       "<table border=\"1\" class=\"dataframe\">\n",
       "  <thead>\n",
       "    <tr style=\"text-align: right;\">\n",
       "      <th></th>\n",
       "      <th>Atributo</th>\n",
       "      <th>Importance</th>\n",
       "    </tr>\n",
       "  </thead>\n",
       "  <tbody>\n",
       "    <tr>\n",
       "      <th>4</th>\n",
       "      <td>Fare</td>\n",
       "      <td>0.27</td>\n",
       "    </tr>\n",
       "    <tr>\n",
       "      <th>5</th>\n",
       "      <td>Sex_male</td>\n",
       "      <td>0.26</td>\n",
       "    </tr>\n",
       "    <tr>\n",
       "      <th>1</th>\n",
       "      <td>Age</td>\n",
       "      <td>0.25</td>\n",
       "    </tr>\n",
       "    <tr>\n",
       "      <th>0</th>\n",
       "      <td>Pclass</td>\n",
       "      <td>0.09</td>\n",
       "    </tr>\n",
       "    <tr>\n",
       "      <th>2</th>\n",
       "      <td>SibSp</td>\n",
       "      <td>0.05</td>\n",
       "    </tr>\n",
       "    <tr>\n",
       "      <th>3</th>\n",
       "      <td>Parch</td>\n",
       "      <td>0.04</td>\n",
       "    </tr>\n",
       "    <tr>\n",
       "      <th>7</th>\n",
       "      <td>Embarked_S</td>\n",
       "      <td>0.02</td>\n",
       "    </tr>\n",
       "    <tr>\n",
       "      <th>6</th>\n",
       "      <td>Embarked_Q</td>\n",
       "      <td>0.01</td>\n",
       "    </tr>\n",
       "  </tbody>\n",
       "</table>\n",
       "</div>"
      ],
      "text/plain": [
       "     Atributo  Importance\n",
       "4        Fare        0.27\n",
       "5    Sex_male        0.26\n",
       "1         Age        0.25\n",
       "0      Pclass        0.09\n",
       "2       SibSp        0.05\n",
       "3       Parch        0.04\n",
       "7  Embarked_S        0.02\n",
       "6  Embarked_Q        0.01"
      ]
     },
     "execution_count": 113,
     "metadata": {},
     "output_type": "execute_result"
    }
   ],
   "source": [
    "#Asignamos a la variable \"coeficiente_RF\" las importancias de este modelo mediante la función comentada previamente\n",
    "coeficiente_RF = rf.feature_importances_\n",
    "\n",
    "#Creamos el DataFrame de la misma forma que hemos procedido en el resto de modelos\n",
    "importancias_RF = pd.DataFrame(data={'Atributo': x_train.columns,'Importance': abs(coeficiente_RF)})\n",
    "\n",
    "#Ordenamos el DataFrame por la columna \"Importance\" en orden descendente\n",
    "importancias_RF = importancias_RF.sort_values(by='Importance', ascending=False)\n",
    "\n",
    "#Imprimimos el DataFrame\n",
    "importancias_RF"
   ]
  },
  {
   "cell_type": "code",
   "execution_count": 114,
   "id": "3593e89b",
   "metadata": {},
   "outputs": [
    {
     "data": {
      "image/png": "[encoded data removed]",
      "text/plain": [
       "<Figure size 640x480 with 1 Axes>"
      ]
     },
     "metadata": {},
     "output_type": "display_data"
    }
   ],
   "source": [
    "#Procedemos a la representación gráfica del DataFrame anterior usando la funcion \"plt.bar()\"\n",
    "plt.bar(x = importancias_RF['Atributo'], height = importancias_RF['Importance'], color='#FF8080')\n",
    "\n",
    "#Establecemos el titulo de la gráfica con su tamaño\n",
    "plt.title('Random Forest FI', size = 22)\n",
    "\n",
    "#Usamos la función \"plt.xticks()\" para evitar la superposición de letras en el eje x\n",
    "plt.xticks(rotation = 'vertical')\n",
    "\n",
    "#Mostramos la gráfica por pantalla\n",
    "plt.show()"
   ]
  },
  {
   "cell_type": "markdown",
   "id": "494dd2fd",
   "metadata": {},
   "source": [
    "### ANÁLISIS DE LO OBTENIDO\n",
    "Por último, para el caso de Random Forest, la variable con mas influencia sería también el sexo (_Sex Male_), indicando una vez más que los hombres tendrían una mayor probabilidad de sobrevivir.<br><br>\n",
    "Por otro lado, una vez más también nos encontramos con que la ciudad donde los pasajeros embarcaron no tiene relevancia (variables _Embarked S_ y _Embarked C_)."
   ]
  }
 ],
 "metadata": {
  "kernelspec": {
   "display_name": "Python 3 (ipykernel)",
   "language": "python",
   "name": "python3"
  },
  "language_info": {
   "codemirror_mode": {
    "name": "ipython",
    "version": 3
   },
   "file_extension": ".py",
   "mimetype": "text/x-python",
   "name": "python",
   "nbconvert_exporter": "python",
   "pygments_lexer": "ipython3",
   "version": "3.10.4"
  }
 },
 "nbformat": 4,
 "nbformat_minor": 5
}
